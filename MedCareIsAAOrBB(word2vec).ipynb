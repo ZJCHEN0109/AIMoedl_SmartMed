{
  "nbformat": 4,
  "nbformat_minor": 0,
  "metadata": {
    "colab": {
      "name": "MedCareIsAAOrBB(word2vec).ipynb",
      "provenance": [],
      "collapsed_sections": [
        "WVnLwZzn2Kki",
        "Qa_NZCm9F145",
        "uN7O20zW06SG"
      ],
      "include_colab_link": true
    },
    "kernelspec": {
      "name": "python3",
      "display_name": "Python 3"
    },
    "language_info": {
      "name": "python"
    },
    "accelerator": "GPU",
    "gpuClass": "standard"
  },
  "cells": [
    {
      "cell_type": "markdown",
      "metadata": {
        "id": "view-in-github",
        "colab_type": "text"
      },
      "source": [
        "<a href=\"https://colab.research.google.com/github/ZJCHEN0109/AIMoedl_SmartMed/blob/main/MedCareIsAAOrBB(word2vec).ipynb\" target=\"_parent\"><img src=\"https://colab.research.google.com/assets/colab-badge.svg\" alt=\"Open In Colab\"/></a>"
      ]
    },
    {
      "cell_type": "markdown",
      "source": [
        "#套件安裝"
      ],
      "metadata": {
        "id": "t9u0obClVq_1"
      }
    },
    {
      "cell_type": "code",
      "source": [
        "from google.colab import drive\n",
        "drive.mount('/content/drive')"
      ],
      "metadata": {
        "colab": {
          "base_uri": "https://localhost:8080/"
        },
        "id": "8Xcc6Xe_VmZ2",
        "outputId": "5b19b770-c43c-4c2b-d78d-a977ae775d0b"
      },
      "execution_count": null,
      "outputs": [
        {
          "output_type": "stream",
          "name": "stdout",
          "text": [
            "Mounted at /content/drive\n"
          ]
        }
      ]
    },
    {
      "cell_type": "code",
      "source": [
        "import pandas as pd\n",
        "import glob\n",
        "import numpy as np\n",
        "import os\n",
        "import tensorflow as tf\n",
        "import jieba.analyse\n",
        "import jieba\n",
        "import jieba.posseg as pseg"
      ],
      "metadata": {
        "id": "N9bEFLwV5JBg"
      },
      "execution_count": null,
      "outputs": []
    },
    {
      "cell_type": "code",
      "source": [
        "from urllib.request import urlretrieve\n",
        "url=\"https://github.com/fxsjy/jieba/raw/master/extra_dict/dict.txt.big\"\n",
        "urlretrieve(url,\"dict.txt.big\")\n",
        "jieba.set_dictionary(\"dict.txt.big\")\n",
        "## 使用者自訂字典\n",
        "# jieba.load_userdict(\"dict.news.txt\")"
      ],
      "metadata": {
        "id": "QMDplAA6pJz_"
      },
      "execution_count": null,
      "outputs": []
    },
    {
      "cell_type": "markdown",
      "source": [
        "# 資料來源"
      ],
      "metadata": {
        "id": "9i0s5PDs5gne"
      }
    },
    {
      "cell_type": "markdown",
      "source": [
        "基本參數(預留BERT使用)"
      ],
      "metadata": {
        "id": "Jd3jUJD3gc3-"
      }
    },
    {
      "cell_type": "code",
      "source": [
        "FOLDER_PATH = '/content/drive/MyDrive/AI工程師/AI進階深度學習/05-Transformer/BERT'"
      ],
      "metadata": {
        "id": "fE2a-1cRgiFb"
      },
      "execution_count": null,
      "outputs": []
    },
    {
      "cell_type": "code",
      "source": [
        "# df = pd.read_csv(os.path.join(FOLDER_PATH, 'Gensim-SmartMedCare.csv'), header=None)\n",
        "train_df = pd.read_csv(os.path.join(FOLDER_PATH, 'Gensim-SmartMedCare.csv'))\n",
        "test_df = pd.read_csv(os.path.join(FOLDER_PATH, 'Gensim-SmartMedCare.csv'))"
      ],
      "metadata": {
        "id": "f4MwWi2_gun-"
      },
      "execution_count": null,
      "outputs": []
    },
    {
      "cell_type": "code",
      "source": [
        "train_df"
      ],
      "metadata": {
        "colab": {
          "base_uri": "https://localhost:8080/",
          "height": 424
        },
        "id": "60S78j9-4s5h",
        "outputId": "44114837-fbd8-4e6e-e6f7-22ed0fbd9637"
      },
      "execution_count": null,
      "outputs": [
        {
          "output_type": "execute_result",
          "data": {
            "text/plain": [
              "                                             dfcontent      sentiment\n",
              "0                     服用adarone,宜避免或小心服用葡萄柚汁(請錯開二小時服用)  不了解處方用藥的應注意事項\n",
              "1    Topamax剝半或磨粉後會釋出苦味，因病人使用鼻胃管,所以不致影響。此藥會有體重降低情形，...  不了解處方用藥的應注意事項\n",
              "2    服用bromazepam須注意本品可能會引發順行性健忘。使用較高治療劑量時可能發生順行性健忘...  不了解處方用藥的應注意事項\n",
              "3                  Amlobin、Celecolen會造成水腫現象，墊高抬腿防止減輕症狀  不了解處方用藥的應注意事項\n",
              "4                                使用Crestor需注意肌肉痠痛的情形\\r  不了解處方用藥的應注意事項\n",
              "..                                                 ...            ...\n",
              "635                                Plavix與Xarelto的交互作用      藥品-藥品交互作用\n",
              "636                           Omeprazole與Eltroxin的交互作用      藥品-藥品交互作用\n",
              "637                             Neurontin與Baclofen交互作用      藥品-藥品交互作用\n",
              "638                               Plavix和Piracetam交互作用      藥品-藥品交互作用\n",
              "639                                       此藥有藥品-藥品交互作用      藥品-藥品交互作用\n",
              "\n",
              "[640 rows x 2 columns]"
            ],
            "text/html": [
              "\n",
              "  <div id=\"df-2d79ecbd-321c-46b6-a7df-ed852f5c8639\">\n",
              "    <div class=\"colab-df-container\">\n",
              "      <div>\n",
              "<style scoped>\n",
              "    .dataframe tbody tr th:only-of-type {\n",
              "        vertical-align: middle;\n",
              "    }\n",
              "\n",
              "    .dataframe tbody tr th {\n",
              "        vertical-align: top;\n",
              "    }\n",
              "\n",
              "    .dataframe thead th {\n",
              "        text-align: right;\n",
              "    }\n",
              "</style>\n",
              "<table border=\"1\" class=\"dataframe\">\n",
              "  <thead>\n",
              "    <tr style=\"text-align: right;\">\n",
              "      <th></th>\n",
              "      <th>dfcontent</th>\n",
              "      <th>sentiment</th>\n",
              "    </tr>\n",
              "  </thead>\n",
              "  <tbody>\n",
              "    <tr>\n",
              "      <th>0</th>\n",
              "      <td>服用adarone,宜避免或小心服用葡萄柚汁(請錯開二小時服用)</td>\n",
              "      <td>不了解處方用藥的應注意事項</td>\n",
              "    </tr>\n",
              "    <tr>\n",
              "      <th>1</th>\n",
              "      <td>Topamax剝半或磨粉後會釋出苦味，因病人使用鼻胃管,所以不致影響。此藥會有體重降低情形，...</td>\n",
              "      <td>不了解處方用藥的應注意事項</td>\n",
              "    </tr>\n",
              "    <tr>\n",
              "      <th>2</th>\n",
              "      <td>服用bromazepam須注意本品可能會引發順行性健忘。使用較高治療劑量時可能發生順行性健忘...</td>\n",
              "      <td>不了解處方用藥的應注意事項</td>\n",
              "    </tr>\n",
              "    <tr>\n",
              "      <th>3</th>\n",
              "      <td>Amlobin、Celecolen會造成水腫現象，墊高抬腿防止減輕症狀</td>\n",
              "      <td>不了解處方用藥的應注意事項</td>\n",
              "    </tr>\n",
              "    <tr>\n",
              "      <th>4</th>\n",
              "      <td>使用Crestor需注意肌肉痠痛的情形\\r</td>\n",
              "      <td>不了解處方用藥的應注意事項</td>\n",
              "    </tr>\n",
              "    <tr>\n",
              "      <th>...</th>\n",
              "      <td>...</td>\n",
              "      <td>...</td>\n",
              "    </tr>\n",
              "    <tr>\n",
              "      <th>635</th>\n",
              "      <td>Plavix與Xarelto的交互作用</td>\n",
              "      <td>藥品-藥品交互作用</td>\n",
              "    </tr>\n",
              "    <tr>\n",
              "      <th>636</th>\n",
              "      <td>Omeprazole與Eltroxin的交互作用</td>\n",
              "      <td>藥品-藥品交互作用</td>\n",
              "    </tr>\n",
              "    <tr>\n",
              "      <th>637</th>\n",
              "      <td>Neurontin與Baclofen交互作用</td>\n",
              "      <td>藥品-藥品交互作用</td>\n",
              "    </tr>\n",
              "    <tr>\n",
              "      <th>638</th>\n",
              "      <td>Plavix和Piracetam交互作用</td>\n",
              "      <td>藥品-藥品交互作用</td>\n",
              "    </tr>\n",
              "    <tr>\n",
              "      <th>639</th>\n",
              "      <td>此藥有藥品-藥品交互作用</td>\n",
              "      <td>藥品-藥品交互作用</td>\n",
              "    </tr>\n",
              "  </tbody>\n",
              "</table>\n",
              "<p>640 rows × 2 columns</p>\n",
              "</div>\n",
              "      <button class=\"colab-df-convert\" onclick=\"convertToInteractive('df-2d79ecbd-321c-46b6-a7df-ed852f5c8639')\"\n",
              "              title=\"Convert this dataframe to an interactive table.\"\n",
              "              style=\"display:none;\">\n",
              "        \n",
              "  <svg xmlns=\"http://www.w3.org/2000/svg\" height=\"24px\"viewBox=\"0 0 24 24\"\n",
              "       width=\"24px\">\n",
              "    <path d=\"M0 0h24v24H0V0z\" fill=\"none\"/>\n",
              "    <path d=\"M18.56 5.44l.94 2.06.94-2.06 2.06-.94-2.06-.94-.94-2.06-.94 2.06-2.06.94zm-11 1L8.5 8.5l.94-2.06 2.06-.94-2.06-.94L8.5 2.5l-.94 2.06-2.06.94zm10 10l.94 2.06.94-2.06 2.06-.94-2.06-.94-.94-2.06-.94 2.06-2.06.94z\"/><path d=\"M17.41 7.96l-1.37-1.37c-.4-.4-.92-.59-1.43-.59-.52 0-1.04.2-1.43.59L10.3 9.45l-7.72 7.72c-.78.78-.78 2.05 0 2.83L4 21.41c.39.39.9.59 1.41.59.51 0 1.02-.2 1.41-.59l7.78-7.78 2.81-2.81c.8-.78.8-2.07 0-2.86zM5.41 20L4 18.59l7.72-7.72 1.47 1.35L5.41 20z\"/>\n",
              "  </svg>\n",
              "      </button>\n",
              "      \n",
              "  <style>\n",
              "    .colab-df-container {\n",
              "      display:flex;\n",
              "      flex-wrap:wrap;\n",
              "      gap: 12px;\n",
              "    }\n",
              "\n",
              "    .colab-df-convert {\n",
              "      background-color: #E8F0FE;\n",
              "      border: none;\n",
              "      border-radius: 50%;\n",
              "      cursor: pointer;\n",
              "      display: none;\n",
              "      fill: #1967D2;\n",
              "      height: 32px;\n",
              "      padding: 0 0 0 0;\n",
              "      width: 32px;\n",
              "    }\n",
              "\n",
              "    .colab-df-convert:hover {\n",
              "      background-color: #E2EBFA;\n",
              "      box-shadow: 0px 1px 2px rgba(60, 64, 67, 0.3), 0px 1px 3px 1px rgba(60, 64, 67, 0.15);\n",
              "      fill: #174EA6;\n",
              "    }\n",
              "\n",
              "    [theme=dark] .colab-df-convert {\n",
              "      background-color: #3B4455;\n",
              "      fill: #D2E3FC;\n",
              "    }\n",
              "\n",
              "    [theme=dark] .colab-df-convert:hover {\n",
              "      background-color: #434B5C;\n",
              "      box-shadow: 0px 1px 3px 1px rgba(0, 0, 0, 0.15);\n",
              "      filter: drop-shadow(0px 1px 2px rgba(0, 0, 0, 0.3));\n",
              "      fill: #FFFFFF;\n",
              "    }\n",
              "  </style>\n",
              "\n",
              "      <script>\n",
              "        const buttonEl =\n",
              "          document.querySelector('#df-2d79ecbd-321c-46b6-a7df-ed852f5c8639 button.colab-df-convert');\n",
              "        buttonEl.style.display =\n",
              "          google.colab.kernel.accessAllowed ? 'block' : 'none';\n",
              "\n",
              "        async function convertToInteractive(key) {\n",
              "          const element = document.querySelector('#df-2d79ecbd-321c-46b6-a7df-ed852f5c8639');\n",
              "          const dataTable =\n",
              "            await google.colab.kernel.invokeFunction('convertToInteractive',\n",
              "                                                     [key], {});\n",
              "          if (!dataTable) return;\n",
              "\n",
              "          const docLinkHtml = 'Like what you see? Visit the ' +\n",
              "            '<a target=\"_blank\" href=https://colab.research.google.com/notebooks/data_table.ipynb>data table notebook</a>'\n",
              "            + ' to learn more about interactive tables.';\n",
              "          element.innerHTML = '';\n",
              "          dataTable['output_type'] = 'display_data';\n",
              "          await google.colab.output.renderOutput(dataTable, element);\n",
              "          const docLink = document.createElement('div');\n",
              "          docLink.innerHTML = docLinkHtml;\n",
              "          element.appendChild(docLink);\n",
              "        }\n",
              "      </script>\n",
              "    </div>\n",
              "  </div>\n",
              "  "
            ]
          },
          "metadata": {},
          "execution_count": 102
        }
      ]
    },
    {
      "cell_type": "code",
      "source": [
        "test_df"
      ],
      "metadata": {
        "colab": {
          "base_uri": "https://localhost:8080/",
          "height": 424
        },
        "id": "7bBdBjScTN_N",
        "outputId": "83b07f3c-0bc2-4b77-9348-d3b421d17cfa"
      },
      "execution_count": null,
      "outputs": [
        {
          "output_type": "execute_result",
          "data": {
            "text/plain": [
              "                                             dfcontent      sentiment\n",
              "0                     服用adarone,宜避免或小心服用葡萄柚汁(請錯開二小時服用)  不了解處方用藥的應注意事項\n",
              "1    Topamax剝半或磨粉後會釋出苦味，因病人使用鼻胃管,所以不致影響。此藥會有體重降低情形，...  不了解處方用藥的應注意事項\n",
              "2    服用bromazepam須注意本品可能會引發順行性健忘。使用較高治療劑量時可能發生順行性健忘...  不了解處方用藥的應注意事項\n",
              "3                  Amlobin、Celecolen會造成水腫現象，墊高抬腿防止減輕症狀  不了解處方用藥的應注意事項\n",
              "4                                使用Crestor需注意肌肉痠痛的情形\\r  不了解處方用藥的應注意事項\n",
              "..                                                 ...            ...\n",
              "635                                Plavix與Xarelto的交互作用      藥品-藥品交互作用\n",
              "636                           Omeprazole與Eltroxin的交互作用      藥品-藥品交互作用\n",
              "637                             Neurontin與Baclofen交互作用      藥品-藥品交互作用\n",
              "638                               Plavix和Piracetam交互作用      藥品-藥品交互作用\n",
              "639                                       此藥有藥品-藥品交互作用      藥品-藥品交互作用\n",
              "\n",
              "[640 rows x 2 columns]"
            ],
            "text/html": [
              "\n",
              "  <div id=\"df-ff4dd0d5-a9a6-495e-9c0e-c8cacdc47ece\">\n",
              "    <div class=\"colab-df-container\">\n",
              "      <div>\n",
              "<style scoped>\n",
              "    .dataframe tbody tr th:only-of-type {\n",
              "        vertical-align: middle;\n",
              "    }\n",
              "\n",
              "    .dataframe tbody tr th {\n",
              "        vertical-align: top;\n",
              "    }\n",
              "\n",
              "    .dataframe thead th {\n",
              "        text-align: right;\n",
              "    }\n",
              "</style>\n",
              "<table border=\"1\" class=\"dataframe\">\n",
              "  <thead>\n",
              "    <tr style=\"text-align: right;\">\n",
              "      <th></th>\n",
              "      <th>dfcontent</th>\n",
              "      <th>sentiment</th>\n",
              "    </tr>\n",
              "  </thead>\n",
              "  <tbody>\n",
              "    <tr>\n",
              "      <th>0</th>\n",
              "      <td>服用adarone,宜避免或小心服用葡萄柚汁(請錯開二小時服用)</td>\n",
              "      <td>不了解處方用藥的應注意事項</td>\n",
              "    </tr>\n",
              "    <tr>\n",
              "      <th>1</th>\n",
              "      <td>Topamax剝半或磨粉後會釋出苦味，因病人使用鼻胃管,所以不致影響。此藥會有體重降低情形，...</td>\n",
              "      <td>不了解處方用藥的應注意事項</td>\n",
              "    </tr>\n",
              "    <tr>\n",
              "      <th>2</th>\n",
              "      <td>服用bromazepam須注意本品可能會引發順行性健忘。使用較高治療劑量時可能發生順行性健忘...</td>\n",
              "      <td>不了解處方用藥的應注意事項</td>\n",
              "    </tr>\n",
              "    <tr>\n",
              "      <th>3</th>\n",
              "      <td>Amlobin、Celecolen會造成水腫現象，墊高抬腿防止減輕症狀</td>\n",
              "      <td>不了解處方用藥的應注意事項</td>\n",
              "    </tr>\n",
              "    <tr>\n",
              "      <th>4</th>\n",
              "      <td>使用Crestor需注意肌肉痠痛的情形\\r</td>\n",
              "      <td>不了解處方用藥的應注意事項</td>\n",
              "    </tr>\n",
              "    <tr>\n",
              "      <th>...</th>\n",
              "      <td>...</td>\n",
              "      <td>...</td>\n",
              "    </tr>\n",
              "    <tr>\n",
              "      <th>635</th>\n",
              "      <td>Plavix與Xarelto的交互作用</td>\n",
              "      <td>藥品-藥品交互作用</td>\n",
              "    </tr>\n",
              "    <tr>\n",
              "      <th>636</th>\n",
              "      <td>Omeprazole與Eltroxin的交互作用</td>\n",
              "      <td>藥品-藥品交互作用</td>\n",
              "    </tr>\n",
              "    <tr>\n",
              "      <th>637</th>\n",
              "      <td>Neurontin與Baclofen交互作用</td>\n",
              "      <td>藥品-藥品交互作用</td>\n",
              "    </tr>\n",
              "    <tr>\n",
              "      <th>638</th>\n",
              "      <td>Plavix和Piracetam交互作用</td>\n",
              "      <td>藥品-藥品交互作用</td>\n",
              "    </tr>\n",
              "    <tr>\n",
              "      <th>639</th>\n",
              "      <td>此藥有藥品-藥品交互作用</td>\n",
              "      <td>藥品-藥品交互作用</td>\n",
              "    </tr>\n",
              "  </tbody>\n",
              "</table>\n",
              "<p>640 rows × 2 columns</p>\n",
              "</div>\n",
              "      <button class=\"colab-df-convert\" onclick=\"convertToInteractive('df-ff4dd0d5-a9a6-495e-9c0e-c8cacdc47ece')\"\n",
              "              title=\"Convert this dataframe to an interactive table.\"\n",
              "              style=\"display:none;\">\n",
              "        \n",
              "  <svg xmlns=\"http://www.w3.org/2000/svg\" height=\"24px\"viewBox=\"0 0 24 24\"\n",
              "       width=\"24px\">\n",
              "    <path d=\"M0 0h24v24H0V0z\" fill=\"none\"/>\n",
              "    <path d=\"M18.56 5.44l.94 2.06.94-2.06 2.06-.94-2.06-.94-.94-2.06-.94 2.06-2.06.94zm-11 1L8.5 8.5l.94-2.06 2.06-.94-2.06-.94L8.5 2.5l-.94 2.06-2.06.94zm10 10l.94 2.06.94-2.06 2.06-.94-2.06-.94-.94-2.06-.94 2.06-2.06.94z\"/><path d=\"M17.41 7.96l-1.37-1.37c-.4-.4-.92-.59-1.43-.59-.52 0-1.04.2-1.43.59L10.3 9.45l-7.72 7.72c-.78.78-.78 2.05 0 2.83L4 21.41c.39.39.9.59 1.41.59.51 0 1.02-.2 1.41-.59l7.78-7.78 2.81-2.81c.8-.78.8-2.07 0-2.86zM5.41 20L4 18.59l7.72-7.72 1.47 1.35L5.41 20z\"/>\n",
              "  </svg>\n",
              "      </button>\n",
              "      \n",
              "  <style>\n",
              "    .colab-df-container {\n",
              "      display:flex;\n",
              "      flex-wrap:wrap;\n",
              "      gap: 12px;\n",
              "    }\n",
              "\n",
              "    .colab-df-convert {\n",
              "      background-color: #E8F0FE;\n",
              "      border: none;\n",
              "      border-radius: 50%;\n",
              "      cursor: pointer;\n",
              "      display: none;\n",
              "      fill: #1967D2;\n",
              "      height: 32px;\n",
              "      padding: 0 0 0 0;\n",
              "      width: 32px;\n",
              "    }\n",
              "\n",
              "    .colab-df-convert:hover {\n",
              "      background-color: #E2EBFA;\n",
              "      box-shadow: 0px 1px 2px rgba(60, 64, 67, 0.3), 0px 1px 3px 1px rgba(60, 64, 67, 0.15);\n",
              "      fill: #174EA6;\n",
              "    }\n",
              "\n",
              "    [theme=dark] .colab-df-convert {\n",
              "      background-color: #3B4455;\n",
              "      fill: #D2E3FC;\n",
              "    }\n",
              "\n",
              "    [theme=dark] .colab-df-convert:hover {\n",
              "      background-color: #434B5C;\n",
              "      box-shadow: 0px 1px 3px 1px rgba(0, 0, 0, 0.15);\n",
              "      filter: drop-shadow(0px 1px 2px rgba(0, 0, 0, 0.3));\n",
              "      fill: #FFFFFF;\n",
              "    }\n",
              "  </style>\n",
              "\n",
              "      <script>\n",
              "        const buttonEl =\n",
              "          document.querySelector('#df-ff4dd0d5-a9a6-495e-9c0e-c8cacdc47ece button.colab-df-convert');\n",
              "        buttonEl.style.display =\n",
              "          google.colab.kernel.accessAllowed ? 'block' : 'none';\n",
              "\n",
              "        async function convertToInteractive(key) {\n",
              "          const element = document.querySelector('#df-ff4dd0d5-a9a6-495e-9c0e-c8cacdc47ece');\n",
              "          const dataTable =\n",
              "            await google.colab.kernel.invokeFunction('convertToInteractive',\n",
              "                                                     [key], {});\n",
              "          if (!dataTable) return;\n",
              "\n",
              "          const docLinkHtml = 'Like what you see? Visit the ' +\n",
              "            '<a target=\"_blank\" href=https://colab.research.google.com/notebooks/data_table.ipynb>data table notebook</a>'\n",
              "            + ' to learn more about interactive tables.';\n",
              "          element.innerHTML = '';\n",
              "          dataTable['output_type'] = 'display_data';\n",
              "          await google.colab.output.renderOutput(dataTable, element);\n",
              "          const docLink = document.createElement('div');\n",
              "          docLink.innerHTML = docLinkHtml;\n",
              "          element.appendChild(docLink);\n",
              "        }\n",
              "      </script>\n",
              "    </div>\n",
              "  </div>\n",
              "  "
            ]
          },
          "metadata": {},
          "execution_count": 103
        }
      ]
    },
    {
      "cell_type": "markdown",
      "source": [
        "#文字轉換成數字"
      ],
      "metadata": {
        "id": "sOQ-r9otogdW"
      }
    },
    {
      "cell_type": "code",
      "source": [
        "##統計唯一出現次數最多詞彙\n",
        "# train_df[\"sentiment\"].unique()\n",
        "test_df[\"sentiment\"].unique()"
      ],
      "metadata": {
        "colab": {
          "base_uri": "https://localhost:8080/"
        },
        "id": "NfKdR8vND7DZ",
        "outputId": "dabec95d-5ce4-408d-901c-3d8685ef04de"
      },
      "execution_count": null,
      "outputs": [
        {
          "output_type": "execute_result",
          "data": {
            "text/plain": [
              "array(['不了解處方用藥的應注意事項', '不瞭解劑型操作方法', '用來治療另一藥可避免的副作用', '吃藥時間過於複雜',\n",
              "       '向原處方醫師確認', '因交互作用造成劑量降低', '在正常劑量下，產生不期望的藥理反應', '有未治療的急性狀況或疾病',\n",
              "       '有治療禁忌', '此藥沒有適應症存在)', '自我照護技巧/生活型態不佳', '使用OTC藥/保健食品/中草藥知識不正確',\n",
              "       '使用不安全藥品', '治療期間過長，藥量累積', '建議生化、血液或療效監測', '建議改變用藥間隔', '建議改變治療期限',\n",
              "       '建議改變劑型', '建議改變劑量', '建議更改給藥時間/用藥方法', '建議更改藥品數量', '建議停用某藥',\n",
              "       '建議換用另一種藥品', '建議開始用某藥', '重覆用藥(同一種藥或同一藥理分類)', '病人肝腎功能不佳',\n",
              "       '缺乏可支持的檢驗數據', '從前用此處方藥物治療失敗', '幾種用藥給藥時間太複雜', '無法吞下或給藥',\n",
              "       '對病人不安全(如疾病危險因子、懷孕、哺乳、幼兒、老人)', '劑量過低，或血中濃度不夠', '劑量過高',\n",
              "       '應給予預防性藥物治療', '還有更有效、安全、方便或便宜的藥', '藥品劑型不適當', '藥品-藥品交互作用'],\n",
              "      dtype=object)"
            ]
          },
          "metadata": {},
          "execution_count": 104
        }
      ]
    },
    {
      "cell_type": "code",
      "source": [
        "##屬於AA碼描述\n",
        "names_pos = [\"重覆用藥(同一種藥或同一藥理分類)\",\"藥品劑型不適當\",\"劑量過高\",\"藥品-藥品交互作用\",\"病人肝腎功能不佳\",\"在正常劑量下，產生不期望的藥理反應\",\"有未治療的急性狀況或疾病\",\"其他\"]\n",
        "names_pos_ans = [\"AA22\",\"AA31\",\"AA51\",\"AA61\",\"AA55\",\"AA65\",\"AA11\",\"AA00\"]\n",
        "##屬於BB碼描述\n",
        "names_neg = [\"建議停用某藥\",\"建議換用另一種藥品\",\"建議改變劑量\",\"建議改變用藥間隔\",\"向原處方醫師確認\",\"不了解處方用藥的應注意事項\",\"建議生化、血液或療效監測\",\"其他\"]\n",
        "names_neg_ans = [\"BB12\",\"BB13\",\"BB14\",\"BB16\",\"BB22\",\"AA84\",\"BB23\",\"BB00\"]\n",
        "\n",
        "newdic = {}\n",
        "# for i in range(len(names)):\n",
        "#     newdic[names[i]] = i\n",
        "# 融合\n",
        "newdicAA = {names_pos[i]:i for i in range(len(names_pos))}\n",
        "newdicBB = {names_neg[i]:i for i in range(len(names_neg))}\n",
        "# newdicAA\n",
        "newdicBB"
      ],
      "metadata": {
        "colab": {
          "base_uri": "https://localhost:8080/"
        },
        "id": "ljt8KjHR-w-J",
        "outputId": "acbef9cc-3d22-4803-96de-9f0854341e00"
      },
      "execution_count": null,
      "outputs": [
        {
          "output_type": "execute_result",
          "data": {
            "text/plain": [
              "{'不了解處方用藥的應注意事項': 5,\n",
              " '其他': 7,\n",
              " '向原處方醫師確認': 4,\n",
              " '建議停用某藥': 0,\n",
              " '建議換用另一種藥品': 1,\n",
              " '建議改變劑量': 2,\n",
              " '建議改變用藥間隔': 3,\n",
              " '建議生化、血液或療效監測': 6}"
            ]
          },
          "metadata": {},
          "execution_count": 105
        }
      ]
    },
    {
      "cell_type": "code",
      "source": [
        "#記得傳到任何ML/DL函式庫 要把所有東西轉成數字\n",
        "# series.replace(字典)\n",
        "# test_df[\"sentiment\"].replace({'重覆用藥(同一種藥或同一藥理分類)': 0, '藥品劑型不適當': 1, '劑量過高': 2, '藥品-藥品交互作用': 3, '建議停用某藥': 4, '建議改變劑量': 5, '建議改變用藥間隔': 6})\n",
        "# test_df[\"sentiment\"].value_counts() #回傳獨特值和次數\n",
        "# train_df[\"sentiment\"].unique()\n",
        "##屬於AA碼描述\n",
        "namedic = {names_pos[i]:i for i in range(len(names_pos))}\n",
        "idxname = {i:names_pos[i] for i in range(len(names_pos))}\n",
        "print(namedic)\n",
        "print(idxname)\n",
        "namedic_ans = {names_pos_ans[i]:i for i in range(len(names_pos_ans))}\n",
        "idxname_ans = {i:names_pos_ans[i] for i in range(len(names_pos_ans))}\n",
        "print(namedic_ans)\n",
        "print(idxname_ans)"
      ],
      "metadata": {
        "colab": {
          "base_uri": "https://localhost:8080/"
        },
        "id": "g9K68QXB-w5B",
        "outputId": "57dffb5c-78c9-4fe7-abc4-00e5cd371d44"
      },
      "execution_count": null,
      "outputs": [
        {
          "output_type": "stream",
          "name": "stdout",
          "text": [
            "{'重覆用藥(同一種藥或同一藥理分類)': 0, '藥品劑型不適當': 1, '劑量過高': 2, '藥品-藥品交互作用': 3, '病人肝腎功能不佳': 4, '在正常劑量下，產生不期望的藥理反應': 5, '有未治療的急性狀況或疾病': 6, '其他': 7}\n",
            "{0: '重覆用藥(同一種藥或同一藥理分類)', 1: '藥品劑型不適當', 2: '劑量過高', 3: '藥品-藥品交互作用', 4: '病人肝腎功能不佳', 5: '在正常劑量下，產生不期望的藥理反應', 6: '有未治療的急性狀況或疾病', 7: '其他'}\n",
            "{'AA22': 0, 'AA31': 1, 'AA51': 2, 'AA61': 3, 'AA55': 4, 'AA65': 5, 'AA11': 6, 'AA00': 7}\n",
            "{0: 'AA22', 1: 'AA31', 2: 'AA51', 3: 'AA61', 4: 'AA55', 5: 'AA65', 6: 'AA11', 7: 'AA00'}\n"
          ]
        }
      ]
    },
    {
      "cell_type": "code",
      "source": [
        "##屬於BB碼描述\n",
        "name2dic = {names_neg[i]:i for i in range(len(names_neg))}\n",
        "idx2name = {i:names_neg[i] for i in range(len(names_neg))}\n",
        "print(name2dic)\n",
        "print(idx2name)\n",
        "name2dic_ans = {names_neg_ans[i]:i for i in range(len(names_neg_ans))}\n",
        "idx2name_ans = {i:names_neg_ans[i] for i in range(len(names_neg_ans))}\n",
        "print(name2dic_ans)\n",
        "print(idx2name_ans)"
      ],
      "metadata": {
        "colab": {
          "base_uri": "https://localhost:8080/"
        },
        "id": "0iu1gZ8hNsAd",
        "outputId": "e69f33ee-b91f-475e-9c42-55b73aac63df"
      },
      "execution_count": null,
      "outputs": [
        {
          "output_type": "stream",
          "name": "stdout",
          "text": [
            "{'建議停用某藥': 0, '建議換用另一種藥品': 1, '建議改變劑量': 2, '建議改變用藥間隔': 3, '向原處方醫師確認': 4, '不了解處方用藥的應注意事項': 5, '建議生化、血液或療效監測': 6, '其他': 7}\n",
            "{0: '建議停用某藥', 1: '建議換用另一種藥品', 2: '建議改變劑量', 3: '建議改變用藥間隔', 4: '向原處方醫師確認', 5: '不了解處方用藥的應注意事項', 6: '建議生化、血液或療效監測', 7: '其他'}\n",
            "{'BB12': 0, 'BB13': 1, 'BB14': 2, 'BB16': 3, 'BB22': 4, 'AA84': 5, 'BB23': 6, 'BB00': 7}\n",
            "{0: 'BB12', 1: 'BB13', 2: 'BB14', 3: 'BB16', 4: 'BB22', 5: 'AA84', 6: 'BB23', 7: 'BB00'}\n"
          ]
        }
      ]
    },
    {
      "cell_type": "code",
      "source": [
        "# train_df = train_df[\"sentiment\"].replace(namedic)\n",
        "# test_df = test_df[\"sentiment\"].replace(name2dic)\n",
        "# train_df = np.array(train_df)\n",
        "# test_df = np.array(test_df)"
      ],
      "metadata": {
        "id": "GcaHAWiq-3zz"
      },
      "execution_count": null,
      "outputs": []
    },
    {
      "cell_type": "code",
      "source": [
        "##屬於AA碼描述\n",
        "def namefilter(sentname):\n",
        "    if sentname in namedic.keys():\n",
        "        values = namedic.get(sentname)\n",
        "        # ABCode = idxname_ans.get(values)\n",
        "        return values\n",
        "        # return ABCode\n",
        "    else:\n",
        "        return 7\n",
        "        # return 'AA00'\n",
        "        #pass\n",
        "train_df[\"sentiment\"] = train_df[\"sentiment\"].apply(namefilter)"
      ],
      "metadata": {
        "id": "FGvxh38-OjBo"
      },
      "execution_count": null,
      "outputs": []
    },
    {
      "cell_type": "code",
      "source": [
        "train_df[150:200]"
      ],
      "metadata": {
        "colab": {
          "base_uri": "https://localhost:8080/",
          "height": 1000
        },
        "id": "wUcQ1JsQWy9E",
        "outputId": "77d9ac7d-a3bc-4208-e7cb-2193ebc41c14"
      },
      "execution_count": null,
      "outputs": [
        {
          "output_type": "execute_result",
          "data": {
            "text/plain": [
              "                                             dfcontent  sentiment\n",
              "150                                    鐵劑和其他藥品併用,需間隔使用          7\n",
              "151                                     服用Iwell的注意事項\\r          7\n",
              "152  Amantadine(Dopadine)與Memantine,Switane併用,會增加,即...          5\n",
              "153  Omezol須注意當懷疑是胃潰瘍時，應先確認其並非惡性腫瘤，因本治療可能會減輕其症狀，並延誤...          5\n",
              "154  病人有腹瀉情形,Metformin與Exelon,MgO皆會有腹瀉的副作用,尤其是metfo...          5\n",
              "155  Lipitor若與含有niacin的B-COMPLEX併用,需留意肌肉疼痛及橫紋肌溶解的肌肉...          5\n",
              "156          Plavix與Nicametate併用,抗血小板作用會增強,須小心不正常出血。\\r          5\n",
              "157                               服用Livalo須注意肌肉疼痛的副作用。          5\n",
              "158                                     注意有無皮膚紅疹的問題。\\r          5\n",
              "159  樂多糖漿經腸道分解後，產生類似單糖成分，但在治療便秘的劑量上(20ml)，不致影響血糖值波動...          5\n",
              "160           長期服用Tamoxifen須注意副作用產生，血栓、婦科疾病(陰道出血)、視力模糊          5\n",
              "161                      服用Depakine須監測肝功能指數和注意凝血功能是否下降          5\n",
              "162  Concor用藥期間應注意心跳變慢現象,如心跳降至50-55bpm左右,不可突然停藥應逐漸降低劑量          5\n",
              "163  Sulpin用藥期間應注意EPS症狀發生,如斜頸.腳弓反應.牙關緊閉及舌頭收縮,其它如口乾....          5\n",
              "164  服用Lamital須特別留意皮疹(斑丘疹)的副作用,一般會於四週內發生,經停藥後即可恢復,若...          5\n",
              "165             服用Olanzapine,經常有高血糖及姿態性低血壓,須留意血糖及血壓的變化          5\n",
              "166  Merislon為抗組織胺藥,用於治療內耳前庭管不平衡所引起的眩暈,頭暈,但應同時改善其三高...          5\n",
              "167                         Methylphenidate的服用注意事項及副作用          5\n",
              "168  monitortamsulosininducehypotension,monitorCa/P...          5\n",
              "169                                   身心科藥物大多都會有口乾的副作用          5\n",
              "170                       建議讓住民適度補充水分，讓利尿劑和urief更能發揮療效          5\n",
              "171                     服用Pradaxa需注意出血情形，如血尿、不正常的瘀青或紫斑          5\n",
              "172                                         相關藥品間之交互作用          5\n",
              "173                         住民使否有惡性腫瘤症狀進而再考慮是否使用Omezol          5\n",
              "174                          住民有腹瀉問題，是否請醫師增減會引起腹瀉藥品的品項          5\n",
              "175                           Lipitor與B-COMPLEX的藥品交互作用          5\n",
              "176                Plavix與Nicametate合併使用,需注意兩者間產生的不良反應          5\n",
              "177                             Livalo使用時產生的副作用是否有密切注意          5\n",
              "178                               癲癇治療用藥zonisamide注意事項          5\n",
              "179                                護家反應,樂多糖漿是否會影響目前的血糖          5\n",
              "180                    使用Tamoxifen應留意是否產生一些復科疾病或血栓的副作用          5\n",
              "181            使用Depakine是否有監測肝功能(病人有服用silymarin)和凝血功能          5\n",
              "182                          住民使用Concor時，是否有觀察心跳頻率異常狀況          5\n",
              "183                               使用Sulpin是否有注意常見副作用產生          5\n",
              "184                                 服用Lamital的注意事項\\r\\n          5\n",
              "185                                  服用Olanzapine的注意事項          5\n",
              "186                                 Flunarizine長期服用的影響          5\n",
              "187                             服用methylphenidate的注意事項          5\n",
              "188          avoiddruginducehypotensionandmonitorlevel          5\n",
              "189                                       服用身心科藥物的注意事項          5\n",
              "190                                   服用利尿劑和urief的注意事項          5\n",
              "191                                     服用Pradaxa的注意事項          5\n",
              "192  病人的便秘情形,可由SENNOSIDE3#HSCONTROL病人較難入睡情形,可先行了解其睡...          6\n",
              "193  服用Lamital,若須同時服用降血壓藥品,應避免ACEI類降壓藥品,預以防血管性水腫,可選...          6\n",
              "194  若是持續有入睡困難問題，可建議回診時請醫師開立助眠藥物幫助入睡。\\r\\n住民Asthma若頻...          6\n",
              "195                   因4/8報告中有TG太高，達到248，建議回報醫師，並在近期回測          6\n",
              "196                                   建議可以測量骨質疏鬆T-core          6\n",
              "197   建議至胃腸科檢查糞便潛血，若無胃腸道疾病，可以服用營養品\\r\\n建議持續追蹤血鉀，補充含鉀食物。          6\n",
              "198           住民近期心跳偏慢，雖有使用concor25mg，但影響有限，建議反應給該科別醫生          6\n",
              "199  發現檢驗生化數值ALP值偏高。評估目前用藥沒有影響肝功能的可能性。會建議去看骨科檢查有無骨質...          6"
            ],
            "text/html": [
              "\n",
              "  <div id=\"df-06657682-ad81-4ea1-9b07-d4055deb9371\">\n",
              "    <div class=\"colab-df-container\">\n",
              "      <div>\n",
              "<style scoped>\n",
              "    .dataframe tbody tr th:only-of-type {\n",
              "        vertical-align: middle;\n",
              "    }\n",
              "\n",
              "    .dataframe tbody tr th {\n",
              "        vertical-align: top;\n",
              "    }\n",
              "\n",
              "    .dataframe thead th {\n",
              "        text-align: right;\n",
              "    }\n",
              "</style>\n",
              "<table border=\"1\" class=\"dataframe\">\n",
              "  <thead>\n",
              "    <tr style=\"text-align: right;\">\n",
              "      <th></th>\n",
              "      <th>dfcontent</th>\n",
              "      <th>sentiment</th>\n",
              "    </tr>\n",
              "  </thead>\n",
              "  <tbody>\n",
              "    <tr>\n",
              "      <th>150</th>\n",
              "      <td>鐵劑和其他藥品併用,需間隔使用</td>\n",
              "      <td>7</td>\n",
              "    </tr>\n",
              "    <tr>\n",
              "      <th>151</th>\n",
              "      <td>服用Iwell的注意事項\\r</td>\n",
              "      <td>7</td>\n",
              "    </tr>\n",
              "    <tr>\n",
              "      <th>152</th>\n",
              "      <td>Amantadine(Dopadine)與Memantine,Switane併用,會增加,即...</td>\n",
              "      <td>5</td>\n",
              "    </tr>\n",
              "    <tr>\n",
              "      <th>153</th>\n",
              "      <td>Omezol須注意當懷疑是胃潰瘍時，應先確認其並非惡性腫瘤，因本治療可能會減輕其症狀，並延誤...</td>\n",
              "      <td>5</td>\n",
              "    </tr>\n",
              "    <tr>\n",
              "      <th>154</th>\n",
              "      <td>病人有腹瀉情形,Metformin與Exelon,MgO皆會有腹瀉的副作用,尤其是metfo...</td>\n",
              "      <td>5</td>\n",
              "    </tr>\n",
              "    <tr>\n",
              "      <th>155</th>\n",
              "      <td>Lipitor若與含有niacin的B-COMPLEX併用,需留意肌肉疼痛及橫紋肌溶解的肌肉...</td>\n",
              "      <td>5</td>\n",
              "    </tr>\n",
              "    <tr>\n",
              "      <th>156</th>\n",
              "      <td>Plavix與Nicametate併用,抗血小板作用會增強,須小心不正常出血。\\r</td>\n",
              "      <td>5</td>\n",
              "    </tr>\n",
              "    <tr>\n",
              "      <th>157</th>\n",
              "      <td>服用Livalo須注意肌肉疼痛的副作用。</td>\n",
              "      <td>5</td>\n",
              "    </tr>\n",
              "    <tr>\n",
              "      <th>158</th>\n",
              "      <td>注意有無皮膚紅疹的問題。\\r</td>\n",
              "      <td>5</td>\n",
              "    </tr>\n",
              "    <tr>\n",
              "      <th>159</th>\n",
              "      <td>樂多糖漿經腸道分解後，產生類似單糖成分，但在治療便秘的劑量上(20ml)，不致影響血糖值波動...</td>\n",
              "      <td>5</td>\n",
              "    </tr>\n",
              "    <tr>\n",
              "      <th>160</th>\n",
              "      <td>長期服用Tamoxifen須注意副作用產生，血栓、婦科疾病(陰道出血)、視力模糊</td>\n",
              "      <td>5</td>\n",
              "    </tr>\n",
              "    <tr>\n",
              "      <th>161</th>\n",
              "      <td>服用Depakine須監測肝功能指數和注意凝血功能是否下降</td>\n",
              "      <td>5</td>\n",
              "    </tr>\n",
              "    <tr>\n",
              "      <th>162</th>\n",
              "      <td>Concor用藥期間應注意心跳變慢現象,如心跳降至50-55bpm左右,不可突然停藥應逐漸降低劑量</td>\n",
              "      <td>5</td>\n",
              "    </tr>\n",
              "    <tr>\n",
              "      <th>163</th>\n",
              "      <td>Sulpin用藥期間應注意EPS症狀發生,如斜頸.腳弓反應.牙關緊閉及舌頭收縮,其它如口乾....</td>\n",
              "      <td>5</td>\n",
              "    </tr>\n",
              "    <tr>\n",
              "      <th>164</th>\n",
              "      <td>服用Lamital須特別留意皮疹(斑丘疹)的副作用,一般會於四週內發生,經停藥後即可恢復,若...</td>\n",
              "      <td>5</td>\n",
              "    </tr>\n",
              "    <tr>\n",
              "      <th>165</th>\n",
              "      <td>服用Olanzapine,經常有高血糖及姿態性低血壓,須留意血糖及血壓的變化</td>\n",
              "      <td>5</td>\n",
              "    </tr>\n",
              "    <tr>\n",
              "      <th>166</th>\n",
              "      <td>Merislon為抗組織胺藥,用於治療內耳前庭管不平衡所引起的眩暈,頭暈,但應同時改善其三高...</td>\n",
              "      <td>5</td>\n",
              "    </tr>\n",
              "    <tr>\n",
              "      <th>167</th>\n",
              "      <td>Methylphenidate的服用注意事項及副作用</td>\n",
              "      <td>5</td>\n",
              "    </tr>\n",
              "    <tr>\n",
              "      <th>168</th>\n",
              "      <td>monitortamsulosininducehypotension,monitorCa/P...</td>\n",
              "      <td>5</td>\n",
              "    </tr>\n",
              "    <tr>\n",
              "      <th>169</th>\n",
              "      <td>身心科藥物大多都會有口乾的副作用</td>\n",
              "      <td>5</td>\n",
              "    </tr>\n",
              "    <tr>\n",
              "      <th>170</th>\n",
              "      <td>建議讓住民適度補充水分，讓利尿劑和urief更能發揮療效</td>\n",
              "      <td>5</td>\n",
              "    </tr>\n",
              "    <tr>\n",
              "      <th>171</th>\n",
              "      <td>服用Pradaxa需注意出血情形，如血尿、不正常的瘀青或紫斑</td>\n",
              "      <td>5</td>\n",
              "    </tr>\n",
              "    <tr>\n",
              "      <th>172</th>\n",
              "      <td>相關藥品間之交互作用</td>\n",
              "      <td>5</td>\n",
              "    </tr>\n",
              "    <tr>\n",
              "      <th>173</th>\n",
              "      <td>住民使否有惡性腫瘤症狀進而再考慮是否使用Omezol</td>\n",
              "      <td>5</td>\n",
              "    </tr>\n",
              "    <tr>\n",
              "      <th>174</th>\n",
              "      <td>住民有腹瀉問題，是否請醫師增減會引起腹瀉藥品的品項</td>\n",
              "      <td>5</td>\n",
              "    </tr>\n",
              "    <tr>\n",
              "      <th>175</th>\n",
              "      <td>Lipitor與B-COMPLEX的藥品交互作用</td>\n",
              "      <td>5</td>\n",
              "    </tr>\n",
              "    <tr>\n",
              "      <th>176</th>\n",
              "      <td>Plavix與Nicametate合併使用,需注意兩者間產生的不良反應</td>\n",
              "      <td>5</td>\n",
              "    </tr>\n",
              "    <tr>\n",
              "      <th>177</th>\n",
              "      <td>Livalo使用時產生的副作用是否有密切注意</td>\n",
              "      <td>5</td>\n",
              "    </tr>\n",
              "    <tr>\n",
              "      <th>178</th>\n",
              "      <td>癲癇治療用藥zonisamide注意事項</td>\n",
              "      <td>5</td>\n",
              "    </tr>\n",
              "    <tr>\n",
              "      <th>179</th>\n",
              "      <td>護家反應,樂多糖漿是否會影響目前的血糖</td>\n",
              "      <td>5</td>\n",
              "    </tr>\n",
              "    <tr>\n",
              "      <th>180</th>\n",
              "      <td>使用Tamoxifen應留意是否產生一些復科疾病或血栓的副作用</td>\n",
              "      <td>5</td>\n",
              "    </tr>\n",
              "    <tr>\n",
              "      <th>181</th>\n",
              "      <td>使用Depakine是否有監測肝功能(病人有服用silymarin)和凝血功能</td>\n",
              "      <td>5</td>\n",
              "    </tr>\n",
              "    <tr>\n",
              "      <th>182</th>\n",
              "      <td>住民使用Concor時，是否有觀察心跳頻率異常狀況</td>\n",
              "      <td>5</td>\n",
              "    </tr>\n",
              "    <tr>\n",
              "      <th>183</th>\n",
              "      <td>使用Sulpin是否有注意常見副作用產生</td>\n",
              "      <td>5</td>\n",
              "    </tr>\n",
              "    <tr>\n",
              "      <th>184</th>\n",
              "      <td>服用Lamital的注意事項\\r\\n</td>\n",
              "      <td>5</td>\n",
              "    </tr>\n",
              "    <tr>\n",
              "      <th>185</th>\n",
              "      <td>服用Olanzapine的注意事項</td>\n",
              "      <td>5</td>\n",
              "    </tr>\n",
              "    <tr>\n",
              "      <th>186</th>\n",
              "      <td>Flunarizine長期服用的影響</td>\n",
              "      <td>5</td>\n",
              "    </tr>\n",
              "    <tr>\n",
              "      <th>187</th>\n",
              "      <td>服用methylphenidate的注意事項</td>\n",
              "      <td>5</td>\n",
              "    </tr>\n",
              "    <tr>\n",
              "      <th>188</th>\n",
              "      <td>avoiddruginducehypotensionandmonitorlevel</td>\n",
              "      <td>5</td>\n",
              "    </tr>\n",
              "    <tr>\n",
              "      <th>189</th>\n",
              "      <td>服用身心科藥物的注意事項</td>\n",
              "      <td>5</td>\n",
              "    </tr>\n",
              "    <tr>\n",
              "      <th>190</th>\n",
              "      <td>服用利尿劑和urief的注意事項</td>\n",
              "      <td>5</td>\n",
              "    </tr>\n",
              "    <tr>\n",
              "      <th>191</th>\n",
              "      <td>服用Pradaxa的注意事項</td>\n",
              "      <td>5</td>\n",
              "    </tr>\n",
              "    <tr>\n",
              "      <th>192</th>\n",
              "      <td>病人的便秘情形,可由SENNOSIDE3#HSCONTROL病人較難入睡情形,可先行了解其睡...</td>\n",
              "      <td>6</td>\n",
              "    </tr>\n",
              "    <tr>\n",
              "      <th>193</th>\n",
              "      <td>服用Lamital,若須同時服用降血壓藥品,應避免ACEI類降壓藥品,預以防血管性水腫,可選...</td>\n",
              "      <td>6</td>\n",
              "    </tr>\n",
              "    <tr>\n",
              "      <th>194</th>\n",
              "      <td>若是持續有入睡困難問題，可建議回診時請醫師開立助眠藥物幫助入睡。\\r\\n住民Asthma若頻...</td>\n",
              "      <td>6</td>\n",
              "    </tr>\n",
              "    <tr>\n",
              "      <th>195</th>\n",
              "      <td>因4/8報告中有TG太高，達到248，建議回報醫師，並在近期回測</td>\n",
              "      <td>6</td>\n",
              "    </tr>\n",
              "    <tr>\n",
              "      <th>196</th>\n",
              "      <td>建議可以測量骨質疏鬆T-core</td>\n",
              "      <td>6</td>\n",
              "    </tr>\n",
              "    <tr>\n",
              "      <th>197</th>\n",
              "      <td>建議至胃腸科檢查糞便潛血，若無胃腸道疾病，可以服用營養品\\r\\n建議持續追蹤血鉀，補充含鉀食物。</td>\n",
              "      <td>6</td>\n",
              "    </tr>\n",
              "    <tr>\n",
              "      <th>198</th>\n",
              "      <td>住民近期心跳偏慢，雖有使用concor25mg，但影響有限，建議反應給該科別醫生</td>\n",
              "      <td>6</td>\n",
              "    </tr>\n",
              "    <tr>\n",
              "      <th>199</th>\n",
              "      <td>發現檢驗生化數值ALP值偏高。評估目前用藥沒有影響肝功能的可能性。會建議去看骨科檢查有無骨質...</td>\n",
              "      <td>6</td>\n",
              "    </tr>\n",
              "  </tbody>\n",
              "</table>\n",
              "</div>\n",
              "      <button class=\"colab-df-convert\" onclick=\"convertToInteractive('df-06657682-ad81-4ea1-9b07-d4055deb9371')\"\n",
              "              title=\"Convert this dataframe to an interactive table.\"\n",
              "              style=\"display:none;\">\n",
              "        \n",
              "  <svg xmlns=\"http://www.w3.org/2000/svg\" height=\"24px\"viewBox=\"0 0 24 24\"\n",
              "       width=\"24px\">\n",
              "    <path d=\"M0 0h24v24H0V0z\" fill=\"none\"/>\n",
              "    <path d=\"M18.56 5.44l.94 2.06.94-2.06 2.06-.94-2.06-.94-.94-2.06-.94 2.06-2.06.94zm-11 1L8.5 8.5l.94-2.06 2.06-.94-2.06-.94L8.5 2.5l-.94 2.06-2.06.94zm10 10l.94 2.06.94-2.06 2.06-.94-2.06-.94-.94-2.06-.94 2.06-2.06.94z\"/><path d=\"M17.41 7.96l-1.37-1.37c-.4-.4-.92-.59-1.43-.59-.52 0-1.04.2-1.43.59L10.3 9.45l-7.72 7.72c-.78.78-.78 2.05 0 2.83L4 21.41c.39.39.9.59 1.41.59.51 0 1.02-.2 1.41-.59l7.78-7.78 2.81-2.81c.8-.78.8-2.07 0-2.86zM5.41 20L4 18.59l7.72-7.72 1.47 1.35L5.41 20z\"/>\n",
              "  </svg>\n",
              "      </button>\n",
              "      \n",
              "  <style>\n",
              "    .colab-df-container {\n",
              "      display:flex;\n",
              "      flex-wrap:wrap;\n",
              "      gap: 12px;\n",
              "    }\n",
              "\n",
              "    .colab-df-convert {\n",
              "      background-color: #E8F0FE;\n",
              "      border: none;\n",
              "      border-radius: 50%;\n",
              "      cursor: pointer;\n",
              "      display: none;\n",
              "      fill: #1967D2;\n",
              "      height: 32px;\n",
              "      padding: 0 0 0 0;\n",
              "      width: 32px;\n",
              "    }\n",
              "\n",
              "    .colab-df-convert:hover {\n",
              "      background-color: #E2EBFA;\n",
              "      box-shadow: 0px 1px 2px rgba(60, 64, 67, 0.3), 0px 1px 3px 1px rgba(60, 64, 67, 0.15);\n",
              "      fill: #174EA6;\n",
              "    }\n",
              "\n",
              "    [theme=dark] .colab-df-convert {\n",
              "      background-color: #3B4455;\n",
              "      fill: #D2E3FC;\n",
              "    }\n",
              "\n",
              "    [theme=dark] .colab-df-convert:hover {\n",
              "      background-color: #434B5C;\n",
              "      box-shadow: 0px 1px 3px 1px rgba(0, 0, 0, 0.15);\n",
              "      filter: drop-shadow(0px 1px 2px rgba(0, 0, 0, 0.3));\n",
              "      fill: #FFFFFF;\n",
              "    }\n",
              "  </style>\n",
              "\n",
              "      <script>\n",
              "        const buttonEl =\n",
              "          document.querySelector('#df-06657682-ad81-4ea1-9b07-d4055deb9371 button.colab-df-convert');\n",
              "        buttonEl.style.display =\n",
              "          google.colab.kernel.accessAllowed ? 'block' : 'none';\n",
              "\n",
              "        async function convertToInteractive(key) {\n",
              "          const element = document.querySelector('#df-06657682-ad81-4ea1-9b07-d4055deb9371');\n",
              "          const dataTable =\n",
              "            await google.colab.kernel.invokeFunction('convertToInteractive',\n",
              "                                                     [key], {});\n",
              "          if (!dataTable) return;\n",
              "\n",
              "          const docLinkHtml = 'Like what you see? Visit the ' +\n",
              "            '<a target=\"_blank\" href=https://colab.research.google.com/notebooks/data_table.ipynb>data table notebook</a>'\n",
              "            + ' to learn more about interactive tables.';\n",
              "          element.innerHTML = '';\n",
              "          dataTable['output_type'] = 'display_data';\n",
              "          await google.colab.output.renderOutput(dataTable, element);\n",
              "          const docLink = document.createElement('div');\n",
              "          docLink.innerHTML = docLinkHtml;\n",
              "          element.appendChild(docLink);\n",
              "        }\n",
              "      </script>\n",
              "    </div>\n",
              "  </div>\n",
              "  "
            ]
          },
          "metadata": {},
          "execution_count": 109
        }
      ]
    },
    {
      "cell_type": "code",
      "source": [
        "# ##屬於BB碼描述\n",
        "# def namefilter(sentname):\n",
        "#     if sentname in name2dic:\n",
        "#         values = name2dic.get(sentname)\n",
        "#         # ABCode = idx2name_ans.get(values)\n",
        "#         return values\n",
        "#         #return ABCode\n",
        "#     else:\n",
        "#         return 7\n",
        "#         # return 'BB00'\n",
        "#         # pass\n",
        "# test_df[\"sentiment\"] = test_df[\"sentiment\"].apply(namefilter)"
      ],
      "metadata": {
        "id": "DM4OPHMvRfZu"
      },
      "execution_count": null,
      "outputs": []
    },
    {
      "cell_type": "code",
      "source": [
        "##屬於BB碼描述(因沒有Test測試資料使用Train取代)\n",
        "def namefilter(sentname):\n",
        "    if sentname in namedic.keys():\n",
        "        values = namedic.get(sentname)\n",
        "        # ABCode = idxname_ans.get(values)\n",
        "        return values\n",
        "        # return ABCode\n",
        "    else:\n",
        "        return 7\n",
        "        # return 'AA00'\n",
        "        #pass\n",
        "train_df[\"sentiment\"] = train_df[\"sentiment\"].apply(namefilter)"
      ],
      "metadata": {
        "id": "VnTMMEHEv2lc"
      },
      "execution_count": null,
      "outputs": []
    },
    {
      "cell_type": "code",
      "source": [
        "test_df[100:200]"
      ],
      "metadata": {
        "colab": {
          "base_uri": "https://localhost:8080/",
          "height": 424
        },
        "id": "z40xKc-PquXo",
        "outputId": "4ec81268-94e0-4831-a394-9256ef25d38b"
      },
      "execution_count": null,
      "outputs": [
        {
          "output_type": "execute_result",
          "data": {
            "text/plain": [
              "                                             dfcontent  sentiment\n",
              "100                                    降血糖藥建議可以改用複方+單方          7\n",
              "101  sennoside與dulcolax有複方藥品conslife,可考慮更改為conslife...          7\n",
              "102                            血糖用藥可考慮使用複方產品,減少用藥品項及頻次          7\n",
              "103                sennoside與dulcolax各別使用上是否造成服藥順從性的不便          7\n",
              "104  Omezol須注意當懷疑是胃潰瘍時，應先確認其並非惡性腫瘤，因本治療可能會減輕其症狀，並延誤...          4\n",
              "..                                                 ...        ...\n",
              "195                   因4/8報告中有TG太高，達到248，建議回報醫師，並在近期回測          7\n",
              "196                                   建議可以測量骨質疏鬆T-core          7\n",
              "197   建議至胃腸科檢查糞便潛血，若無胃腸道疾病，可以服用營養品\\r\\n建議持續追蹤血鉀，補充含鉀食物。          7\n",
              "198           住民近期心跳偏慢，雖有使用concor25mg，但影響有限，建議反應給該科別醫生          7\n",
              "199  發現檢驗生化數值ALP值偏高。評估目前用藥沒有影響肝功能的可能性。會建議去看骨科檢查有無骨質...          7\n",
              "\n",
              "[100 rows x 2 columns]"
            ],
            "text/html": [
              "\n",
              "  <div id=\"df-e66e0a01-58aa-4edd-838c-21f7d378c3b3\">\n",
              "    <div class=\"colab-df-container\">\n",
              "      <div>\n",
              "<style scoped>\n",
              "    .dataframe tbody tr th:only-of-type {\n",
              "        vertical-align: middle;\n",
              "    }\n",
              "\n",
              "    .dataframe tbody tr th {\n",
              "        vertical-align: top;\n",
              "    }\n",
              "\n",
              "    .dataframe thead th {\n",
              "        text-align: right;\n",
              "    }\n",
              "</style>\n",
              "<table border=\"1\" class=\"dataframe\">\n",
              "  <thead>\n",
              "    <tr style=\"text-align: right;\">\n",
              "      <th></th>\n",
              "      <th>dfcontent</th>\n",
              "      <th>sentiment</th>\n",
              "    </tr>\n",
              "  </thead>\n",
              "  <tbody>\n",
              "    <tr>\n",
              "      <th>100</th>\n",
              "      <td>降血糖藥建議可以改用複方+單方</td>\n",
              "      <td>7</td>\n",
              "    </tr>\n",
              "    <tr>\n",
              "      <th>101</th>\n",
              "      <td>sennoside與dulcolax有複方藥品conslife,可考慮更改為conslife...</td>\n",
              "      <td>7</td>\n",
              "    </tr>\n",
              "    <tr>\n",
              "      <th>102</th>\n",
              "      <td>血糖用藥可考慮使用複方產品,減少用藥品項及頻次</td>\n",
              "      <td>7</td>\n",
              "    </tr>\n",
              "    <tr>\n",
              "      <th>103</th>\n",
              "      <td>sennoside與dulcolax各別使用上是否造成服藥順從性的不便</td>\n",
              "      <td>7</td>\n",
              "    </tr>\n",
              "    <tr>\n",
              "      <th>104</th>\n",
              "      <td>Omezol須注意當懷疑是胃潰瘍時，應先確認其並非惡性腫瘤，因本治療可能會減輕其症狀，並延誤...</td>\n",
              "      <td>4</td>\n",
              "    </tr>\n",
              "    <tr>\n",
              "      <th>...</th>\n",
              "      <td>...</td>\n",
              "      <td>...</td>\n",
              "    </tr>\n",
              "    <tr>\n",
              "      <th>195</th>\n",
              "      <td>因4/8報告中有TG太高，達到248，建議回報醫師，並在近期回測</td>\n",
              "      <td>7</td>\n",
              "    </tr>\n",
              "    <tr>\n",
              "      <th>196</th>\n",
              "      <td>建議可以測量骨質疏鬆T-core</td>\n",
              "      <td>7</td>\n",
              "    </tr>\n",
              "    <tr>\n",
              "      <th>197</th>\n",
              "      <td>建議至胃腸科檢查糞便潛血，若無胃腸道疾病，可以服用營養品\\r\\n建議持續追蹤血鉀，補充含鉀食物。</td>\n",
              "      <td>7</td>\n",
              "    </tr>\n",
              "    <tr>\n",
              "      <th>198</th>\n",
              "      <td>住民近期心跳偏慢，雖有使用concor25mg，但影響有限，建議反應給該科別醫生</td>\n",
              "      <td>7</td>\n",
              "    </tr>\n",
              "    <tr>\n",
              "      <th>199</th>\n",
              "      <td>發現檢驗生化數值ALP值偏高。評估目前用藥沒有影響肝功能的可能性。會建議去看骨科檢查有無骨質...</td>\n",
              "      <td>7</td>\n",
              "    </tr>\n",
              "  </tbody>\n",
              "</table>\n",
              "<p>100 rows × 2 columns</p>\n",
              "</div>\n",
              "      <button class=\"colab-df-convert\" onclick=\"convertToInteractive('df-e66e0a01-58aa-4edd-838c-21f7d378c3b3')\"\n",
              "              title=\"Convert this dataframe to an interactive table.\"\n",
              "              style=\"display:none;\">\n",
              "        \n",
              "  <svg xmlns=\"http://www.w3.org/2000/svg\" height=\"24px\"viewBox=\"0 0 24 24\"\n",
              "       width=\"24px\">\n",
              "    <path d=\"M0 0h24v24H0V0z\" fill=\"none\"/>\n",
              "    <path d=\"M18.56 5.44l.94 2.06.94-2.06 2.06-.94-2.06-.94-.94-2.06-.94 2.06-2.06.94zm-11 1L8.5 8.5l.94-2.06 2.06-.94-2.06-.94L8.5 2.5l-.94 2.06-2.06.94zm10 10l.94 2.06.94-2.06 2.06-.94-2.06-.94-.94-2.06-.94 2.06-2.06.94z\"/><path d=\"M17.41 7.96l-1.37-1.37c-.4-.4-.92-.59-1.43-.59-.52 0-1.04.2-1.43.59L10.3 9.45l-7.72 7.72c-.78.78-.78 2.05 0 2.83L4 21.41c.39.39.9.59 1.41.59.51 0 1.02-.2 1.41-.59l7.78-7.78 2.81-2.81c.8-.78.8-2.07 0-2.86zM5.41 20L4 18.59l7.72-7.72 1.47 1.35L5.41 20z\"/>\n",
              "  </svg>\n",
              "      </button>\n",
              "      \n",
              "  <style>\n",
              "    .colab-df-container {\n",
              "      display:flex;\n",
              "      flex-wrap:wrap;\n",
              "      gap: 12px;\n",
              "    }\n",
              "\n",
              "    .colab-df-convert {\n",
              "      background-color: #E8F0FE;\n",
              "      border: none;\n",
              "      border-radius: 50%;\n",
              "      cursor: pointer;\n",
              "      display: none;\n",
              "      fill: #1967D2;\n",
              "      height: 32px;\n",
              "      padding: 0 0 0 0;\n",
              "      width: 32px;\n",
              "    }\n",
              "\n",
              "    .colab-df-convert:hover {\n",
              "      background-color: #E2EBFA;\n",
              "      box-shadow: 0px 1px 2px rgba(60, 64, 67, 0.3), 0px 1px 3px 1px rgba(60, 64, 67, 0.15);\n",
              "      fill: #174EA6;\n",
              "    }\n",
              "\n",
              "    [theme=dark] .colab-df-convert {\n",
              "      background-color: #3B4455;\n",
              "      fill: #D2E3FC;\n",
              "    }\n",
              "\n",
              "    [theme=dark] .colab-df-convert:hover {\n",
              "      background-color: #434B5C;\n",
              "      box-shadow: 0px 1px 3px 1px rgba(0, 0, 0, 0.15);\n",
              "      filter: drop-shadow(0px 1px 2px rgba(0, 0, 0, 0.3));\n",
              "      fill: #FFFFFF;\n",
              "    }\n",
              "  </style>\n",
              "\n",
              "      <script>\n",
              "        const buttonEl =\n",
              "          document.querySelector('#df-e66e0a01-58aa-4edd-838c-21f7d378c3b3 button.colab-df-convert');\n",
              "        buttonEl.style.display =\n",
              "          google.colab.kernel.accessAllowed ? 'block' : 'none';\n",
              "\n",
              "        async function convertToInteractive(key) {\n",
              "          const element = document.querySelector('#df-e66e0a01-58aa-4edd-838c-21f7d378c3b3');\n",
              "          const dataTable =\n",
              "            await google.colab.kernel.invokeFunction('convertToInteractive',\n",
              "                                                     [key], {});\n",
              "          if (!dataTable) return;\n",
              "\n",
              "          const docLinkHtml = 'Like what you see? Visit the ' +\n",
              "            '<a target=\"_blank\" href=https://colab.research.google.com/notebooks/data_table.ipynb>data table notebook</a>'\n",
              "            + ' to learn more about interactive tables.';\n",
              "          element.innerHTML = '';\n",
              "          dataTable['output_type'] = 'display_data';\n",
              "          await google.colab.output.renderOutput(dataTable, element);\n",
              "          const docLink = document.createElement('div');\n",
              "          docLink.innerHTML = docLinkHtml;\n",
              "          element.appendChild(docLink);\n",
              "        }\n",
              "      </script>\n",
              "    </div>\n",
              "  </div>\n",
              "  "
            ]
          },
          "metadata": {},
          "execution_count": 112
        }
      ]
    },
    {
      "cell_type": "markdown",
      "source": [
        "#將所有中文內容轉換為數字序列\n",
        "#Step1 將所有內容作斷詞\n",
        "#Step2 建立空字典\n",
        "#Step3 查看所有內容，每出現一個字典裡沒有的詞彙，將該詞彙指定一個索引數放入字典\n",
        "#Step4 利用建立好的字典將所有內容裏頭包含的詞彙轉換成數字"
      ],
      "metadata": {
        "id": "WVnLwZzn2Kki"
      }
    },
    {
      "cell_type": "markdown",
      "source": [
        "#建立使用者詞典(Token)\n",
        "#方法一 利用Jieba製作Token，斷詞/分詞jiaba.cut()"
      ],
      "metadata": {
        "id": "qE5WAhWfCrmK"
      }
    },
    {
      "cell_type": "code",
      "source": [
        "cols = [\"dfcontent\",\"sentiment\"]\n",
        "train_df = train_df.loc[:,cols]\n",
        "train_df.head(3)\n",
        "# train_df.index"
      ],
      "metadata": {
        "colab": {
          "base_uri": "https://localhost:8080/",
          "height": 143
        },
        "id": "m_J1up3N5NfQ",
        "outputId": "a17a9e8a-a52d-4b8b-fad4-dd33de5c3bbc"
      },
      "execution_count": null,
      "outputs": [
        {
          "output_type": "execute_result",
          "data": {
            "text/plain": [
              "                                           dfcontent  sentiment\n",
              "0                   服用adarone,宜避免或小心服用葡萄柚汁(請錯開二小時服用)          7\n",
              "1  Topamax剝半或磨粉後會釋出苦味，因病人使用鼻胃管,所以不致影響。此藥會有體重降低情形，...          7\n",
              "2  服用bromazepam須注意本品可能會引發順行性健忘。使用較高治療劑量時可能發生順行性健忘...          7"
            ],
            "text/html": [
              "\n",
              "  <div id=\"df-54f0cf24-deff-4a47-91f3-a7e537300d2d\">\n",
              "    <div class=\"colab-df-container\">\n",
              "      <div>\n",
              "<style scoped>\n",
              "    .dataframe tbody tr th:only-of-type {\n",
              "        vertical-align: middle;\n",
              "    }\n",
              "\n",
              "    .dataframe tbody tr th {\n",
              "        vertical-align: top;\n",
              "    }\n",
              "\n",
              "    .dataframe thead th {\n",
              "        text-align: right;\n",
              "    }\n",
              "</style>\n",
              "<table border=\"1\" class=\"dataframe\">\n",
              "  <thead>\n",
              "    <tr style=\"text-align: right;\">\n",
              "      <th></th>\n",
              "      <th>dfcontent</th>\n",
              "      <th>sentiment</th>\n",
              "    </tr>\n",
              "  </thead>\n",
              "  <tbody>\n",
              "    <tr>\n",
              "      <th>0</th>\n",
              "      <td>服用adarone,宜避免或小心服用葡萄柚汁(請錯開二小時服用)</td>\n",
              "      <td>7</td>\n",
              "    </tr>\n",
              "    <tr>\n",
              "      <th>1</th>\n",
              "      <td>Topamax剝半或磨粉後會釋出苦味，因病人使用鼻胃管,所以不致影響。此藥會有體重降低情形，...</td>\n",
              "      <td>7</td>\n",
              "    </tr>\n",
              "    <tr>\n",
              "      <th>2</th>\n",
              "      <td>服用bromazepam須注意本品可能會引發順行性健忘。使用較高治療劑量時可能發生順行性健忘...</td>\n",
              "      <td>7</td>\n",
              "    </tr>\n",
              "  </tbody>\n",
              "</table>\n",
              "</div>\n",
              "      <button class=\"colab-df-convert\" onclick=\"convertToInteractive('df-54f0cf24-deff-4a47-91f3-a7e537300d2d')\"\n",
              "              title=\"Convert this dataframe to an interactive table.\"\n",
              "              style=\"display:none;\">\n",
              "        \n",
              "  <svg xmlns=\"http://www.w3.org/2000/svg\" height=\"24px\"viewBox=\"0 0 24 24\"\n",
              "       width=\"24px\">\n",
              "    <path d=\"M0 0h24v24H0V0z\" fill=\"none\"/>\n",
              "    <path d=\"M18.56 5.44l.94 2.06.94-2.06 2.06-.94-2.06-.94-.94-2.06-.94 2.06-2.06.94zm-11 1L8.5 8.5l.94-2.06 2.06-.94-2.06-.94L8.5 2.5l-.94 2.06-2.06.94zm10 10l.94 2.06.94-2.06 2.06-.94-2.06-.94-.94-2.06-.94 2.06-2.06.94z\"/><path d=\"M17.41 7.96l-1.37-1.37c-.4-.4-.92-.59-1.43-.59-.52 0-1.04.2-1.43.59L10.3 9.45l-7.72 7.72c-.78.78-.78 2.05 0 2.83L4 21.41c.39.39.9.59 1.41.59.51 0 1.02-.2 1.41-.59l7.78-7.78 2.81-2.81c.8-.78.8-2.07 0-2.86zM5.41 20L4 18.59l7.72-7.72 1.47 1.35L5.41 20z\"/>\n",
              "  </svg>\n",
              "      </button>\n",
              "      \n",
              "  <style>\n",
              "    .colab-df-container {\n",
              "      display:flex;\n",
              "      flex-wrap:wrap;\n",
              "      gap: 12px;\n",
              "    }\n",
              "\n",
              "    .colab-df-convert {\n",
              "      background-color: #E8F0FE;\n",
              "      border: none;\n",
              "      border-radius: 50%;\n",
              "      cursor: pointer;\n",
              "      display: none;\n",
              "      fill: #1967D2;\n",
              "      height: 32px;\n",
              "      padding: 0 0 0 0;\n",
              "      width: 32px;\n",
              "    }\n",
              "\n",
              "    .colab-df-convert:hover {\n",
              "      background-color: #E2EBFA;\n",
              "      box-shadow: 0px 1px 2px rgba(60, 64, 67, 0.3), 0px 1px 3px 1px rgba(60, 64, 67, 0.15);\n",
              "      fill: #174EA6;\n",
              "    }\n",
              "\n",
              "    [theme=dark] .colab-df-convert {\n",
              "      background-color: #3B4455;\n",
              "      fill: #D2E3FC;\n",
              "    }\n",
              "\n",
              "    [theme=dark] .colab-df-convert:hover {\n",
              "      background-color: #434B5C;\n",
              "      box-shadow: 0px 1px 3px 1px rgba(0, 0, 0, 0.15);\n",
              "      filter: drop-shadow(0px 1px 2px rgba(0, 0, 0, 0.3));\n",
              "      fill: #FFFFFF;\n",
              "    }\n",
              "  </style>\n",
              "\n",
              "      <script>\n",
              "        const buttonEl =\n",
              "          document.querySelector('#df-54f0cf24-deff-4a47-91f3-a7e537300d2d button.colab-df-convert');\n",
              "        buttonEl.style.display =\n",
              "          google.colab.kernel.accessAllowed ? 'block' : 'none';\n",
              "\n",
              "        async function convertToInteractive(key) {\n",
              "          const element = document.querySelector('#df-54f0cf24-deff-4a47-91f3-a7e537300d2d');\n",
              "          const dataTable =\n",
              "            await google.colab.kernel.invokeFunction('convertToInteractive',\n",
              "                                                     [key], {});\n",
              "          if (!dataTable) return;\n",
              "\n",
              "          const docLinkHtml = 'Like what you see? Visit the ' +\n",
              "            '<a target=\"_blank\" href=https://colab.research.google.com/notebooks/data_table.ipynb>data table notebook</a>'\n",
              "            + ' to learn more about interactive tables.';\n",
              "          element.innerHTML = '';\n",
              "          dataTable['output_type'] = 'display_data';\n",
              "          await google.colab.output.renderOutput(dataTable, element);\n",
              "          const docLink = document.createElement('div');\n",
              "          docLink.innerHTML = docLinkHtml;\n",
              "          element.appendChild(docLink);\n",
              "        }\n",
              "      </script>\n",
              "    </div>\n",
              "  </div>\n",
              "  "
            ]
          },
          "metadata": {},
          "execution_count": 113
        }
      ]
    },
    {
      "cell_type": "code",
      "source": [
        "cols = [\"dfcontent\",\"sentiment\"]\n",
        "test_df = test_df.loc[:,cols]\n",
        "test_df.head(3)\n",
        "# train_df.index"
      ],
      "metadata": {
        "colab": {
          "base_uri": "https://localhost:8080/",
          "height": 143
        },
        "id": "d0Wp4lRo_NRS",
        "outputId": "a9681d47-3fa8-4c2b-89bc-fc6bad981ed3"
      },
      "execution_count": null,
      "outputs": [
        {
          "output_type": "execute_result",
          "data": {
            "text/plain": [
              "                                           dfcontent  sentiment\n",
              "0                   服用adarone,宜避免或小心服用葡萄柚汁(請錯開二小時服用)          5\n",
              "1  Topamax剝半或磨粉後會釋出苦味，因病人使用鼻胃管,所以不致影響。此藥會有體重降低情形，...          5\n",
              "2  服用bromazepam須注意本品可能會引發順行性健忘。使用較高治療劑量時可能發生順行性健忘...          5"
            ],
            "text/html": [
              "\n",
              "  <div id=\"df-ba05c5b3-4351-4dd9-a2cb-b1ee1be3c067\">\n",
              "    <div class=\"colab-df-container\">\n",
              "      <div>\n",
              "<style scoped>\n",
              "    .dataframe tbody tr th:only-of-type {\n",
              "        vertical-align: middle;\n",
              "    }\n",
              "\n",
              "    .dataframe tbody tr th {\n",
              "        vertical-align: top;\n",
              "    }\n",
              "\n",
              "    .dataframe thead th {\n",
              "        text-align: right;\n",
              "    }\n",
              "</style>\n",
              "<table border=\"1\" class=\"dataframe\">\n",
              "  <thead>\n",
              "    <tr style=\"text-align: right;\">\n",
              "      <th></th>\n",
              "      <th>dfcontent</th>\n",
              "      <th>sentiment</th>\n",
              "    </tr>\n",
              "  </thead>\n",
              "  <tbody>\n",
              "    <tr>\n",
              "      <th>0</th>\n",
              "      <td>服用adarone,宜避免或小心服用葡萄柚汁(請錯開二小時服用)</td>\n",
              "      <td>5</td>\n",
              "    </tr>\n",
              "    <tr>\n",
              "      <th>1</th>\n",
              "      <td>Topamax剝半或磨粉後會釋出苦味，因病人使用鼻胃管,所以不致影響。此藥會有體重降低情形，...</td>\n",
              "      <td>5</td>\n",
              "    </tr>\n",
              "    <tr>\n",
              "      <th>2</th>\n",
              "      <td>服用bromazepam須注意本品可能會引發順行性健忘。使用較高治療劑量時可能發生順行性健忘...</td>\n",
              "      <td>5</td>\n",
              "    </tr>\n",
              "  </tbody>\n",
              "</table>\n",
              "</div>\n",
              "      <button class=\"colab-df-convert\" onclick=\"convertToInteractive('df-ba05c5b3-4351-4dd9-a2cb-b1ee1be3c067')\"\n",
              "              title=\"Convert this dataframe to an interactive table.\"\n",
              "              style=\"display:none;\">\n",
              "        \n",
              "  <svg xmlns=\"http://www.w3.org/2000/svg\" height=\"24px\"viewBox=\"0 0 24 24\"\n",
              "       width=\"24px\">\n",
              "    <path d=\"M0 0h24v24H0V0z\" fill=\"none\"/>\n",
              "    <path d=\"M18.56 5.44l.94 2.06.94-2.06 2.06-.94-2.06-.94-.94-2.06-.94 2.06-2.06.94zm-11 1L8.5 8.5l.94-2.06 2.06-.94-2.06-.94L8.5 2.5l-.94 2.06-2.06.94zm10 10l.94 2.06.94-2.06 2.06-.94-2.06-.94-.94-2.06-.94 2.06-2.06.94z\"/><path d=\"M17.41 7.96l-1.37-1.37c-.4-.4-.92-.59-1.43-.59-.52 0-1.04.2-1.43.59L10.3 9.45l-7.72 7.72c-.78.78-.78 2.05 0 2.83L4 21.41c.39.39.9.59 1.41.59.51 0 1.02-.2 1.41-.59l7.78-7.78 2.81-2.81c.8-.78.8-2.07 0-2.86zM5.41 20L4 18.59l7.72-7.72 1.47 1.35L5.41 20z\"/>\n",
              "  </svg>\n",
              "      </button>\n",
              "      \n",
              "  <style>\n",
              "    .colab-df-container {\n",
              "      display:flex;\n",
              "      flex-wrap:wrap;\n",
              "      gap: 12px;\n",
              "    }\n",
              "\n",
              "    .colab-df-convert {\n",
              "      background-color: #E8F0FE;\n",
              "      border: none;\n",
              "      border-radius: 50%;\n",
              "      cursor: pointer;\n",
              "      display: none;\n",
              "      fill: #1967D2;\n",
              "      height: 32px;\n",
              "      padding: 0 0 0 0;\n",
              "      width: 32px;\n",
              "    }\n",
              "\n",
              "    .colab-df-convert:hover {\n",
              "      background-color: #E2EBFA;\n",
              "      box-shadow: 0px 1px 2px rgba(60, 64, 67, 0.3), 0px 1px 3px 1px rgba(60, 64, 67, 0.15);\n",
              "      fill: #174EA6;\n",
              "    }\n",
              "\n",
              "    [theme=dark] .colab-df-convert {\n",
              "      background-color: #3B4455;\n",
              "      fill: #D2E3FC;\n",
              "    }\n",
              "\n",
              "    [theme=dark] .colab-df-convert:hover {\n",
              "      background-color: #434B5C;\n",
              "      box-shadow: 0px 1px 3px 1px rgba(0, 0, 0, 0.15);\n",
              "      filter: drop-shadow(0px 1px 2px rgba(0, 0, 0, 0.3));\n",
              "      fill: #FFFFFF;\n",
              "    }\n",
              "  </style>\n",
              "\n",
              "      <script>\n",
              "        const buttonEl =\n",
              "          document.querySelector('#df-ba05c5b3-4351-4dd9-a2cb-b1ee1be3c067 button.colab-df-convert');\n",
              "        buttonEl.style.display =\n",
              "          google.colab.kernel.accessAllowed ? 'block' : 'none';\n",
              "\n",
              "        async function convertToInteractive(key) {\n",
              "          const element = document.querySelector('#df-ba05c5b3-4351-4dd9-a2cb-b1ee1be3c067');\n",
              "          const dataTable =\n",
              "            await google.colab.kernel.invokeFunction('convertToInteractive',\n",
              "                                                     [key], {});\n",
              "          if (!dataTable) return;\n",
              "\n",
              "          const docLinkHtml = 'Like what you see? Visit the ' +\n",
              "            '<a target=\"_blank\" href=https://colab.research.google.com/notebooks/data_table.ipynb>data table notebook</a>'\n",
              "            + ' to learn more about interactive tables.';\n",
              "          element.innerHTML = '';\n",
              "          dataTable['output_type'] = 'display_data';\n",
              "          await google.colab.output.renderOutput(dataTable, element);\n",
              "          const docLink = document.createElement('div');\n",
              "          docLink.innerHTML = docLinkHtml;\n",
              "          element.appendChild(docLink);\n",
              "        }\n",
              "      </script>\n",
              "    </div>\n",
              "  </div>\n",
              "  "
            ]
          },
          "metadata": {},
          "execution_count": 114
        }
      ]
    },
    {
      "cell_type": "code",
      "source": [
        "# import jieba.posseg as pseg\n",
        "def jieba_tokenizer(text):\n",
        "    words = pseg.cut(text)\n",
        "    return ' '.join([word for word, flag in words if flag != 'x'])"
      ],
      "metadata": {
        "id": "N2NHpWXi26FE"
      },
      "execution_count": null,
      "outputs": []
    },
    {
      "cell_type": "code",
      "source": [
        "train_df.loc[:,\"dfcontent\"].apply(jieba_tokenizer)"
      ],
      "metadata": {
        "colab": {
          "base_uri": "https://localhost:8080/"
        },
        "id": "KdOS8LiS4__U",
        "outputId": "af2ec78b-3485-4ee4-df6f-5306fd0fb903"
      },
      "execution_count": null,
      "outputs": [
        {
          "output_type": "execute_result",
          "data": {
            "text/plain": [
              "0                   服用 adarone 宜 避免 或 小心 服用 葡萄柚 汁 請 二 服用\n",
              "1      Topamax 剝半 或 磨粉 後 會 苦味 因 病人 使用 鼻胃 管 所以 不致 此 藥會...\n",
              "2      服用 bromazepam 須 注意 本品 可能 會 性 健忘 使用 較 高 治療 時 可能...\n",
              "3                           Amlobin Celecolen 會 造成 抬腿 防止\n",
              "4                              使用 Crestor 需注意 肌肉 痠痛 的 情形\n",
              "                             ...                        \n",
              "635                              Plavix 與 Xarelto 的 交互作用\n",
              "636                         Omeprazole 與 Eltroxin 的 交互作用\n",
              "637                            Neurontin 與 Baclofen 交互作用\n",
              "638                              Plavix 和 Piracetam 交互作用\n",
              "639                                           此 藥 有 交互作用\n",
              "Name: dfcontent, Length: 640, dtype: object"
            ]
          },
          "metadata": {},
          "execution_count": 116
        }
      ]
    },
    {
      "cell_type": "code",
      "source": [
        "test_df.loc[:,\"dfcontent\"].apply(jieba_tokenizer)"
      ],
      "metadata": {
        "colab": {
          "base_uri": "https://localhost:8080/"
        },
        "id": "mQXwIsMCBSrb",
        "outputId": "f3f6cfd3-4e2c-4bb0-cf60-15d07d6a5b4f"
      },
      "execution_count": null,
      "outputs": [
        {
          "output_type": "execute_result",
          "data": {
            "text/plain": [
              "0                   服用 adarone 宜 避免 或 小心 服用 葡萄柚 汁 請 二 服用\n",
              "1      Topamax 剝半 或 磨粉 後 會 苦味 因 病人 使用 鼻胃 管 所以 不致 此 藥會...\n",
              "2      服用 bromazepam 須 注意 本品 可能 會 性 健忘 使用 較 高 治療 時 可能...\n",
              "3                           Amlobin Celecolen 會 造成 抬腿 防止\n",
              "4                              使用 Crestor 需注意 肌肉 痠痛 的 情形\n",
              "                             ...                        \n",
              "635                              Plavix 與 Xarelto 的 交互作用\n",
              "636                         Omeprazole 與 Eltroxin 的 交互作用\n",
              "637                            Neurontin 與 Baclofen 交互作用\n",
              "638                              Plavix 和 Piracetam 交互作用\n",
              "639                                           此 藥 有 交互作用\n",
              "Name: dfcontent, Length: 640, dtype: object"
            ]
          },
          "metadata": {},
          "execution_count": 117
        }
      ]
    },
    {
      "cell_type": "code",
      "source": [
        "train_df[\"dfcontent\"] = train_df.loc[:,\"dfcontent\"].apply(jieba_tokenizer)\n",
        "test_df[\"dfcontent\"] = test_df.loc[:,\"dfcontent\"].apply(jieba_tokenizer)"
      ],
      "metadata": {
        "id": "z5z0RYCD3sPE"
      },
      "execution_count": null,
      "outputs": []
    },
    {
      "cell_type": "code",
      "source": [
        "# train_df[\"dfcontent\"]\n",
        "test_df[\"dfcontent\"]"
      ],
      "metadata": {
        "colab": {
          "base_uri": "https://localhost:8080/"
        },
        "id": "F6HYcK2nEWb-",
        "outputId": "5e143ab3-356e-4094-9586-1abd14bc0452"
      },
      "execution_count": null,
      "outputs": [
        {
          "output_type": "execute_result",
          "data": {
            "text/plain": [
              "0                   服用 adarone 宜 避免 或 小心 服用 葡萄柚 汁 請 二 服用\n",
              "1      Topamax 剝半 或 磨粉 後 會 苦味 因 病人 使用 鼻胃 管 所以 不致 此 藥會...\n",
              "2      服用 bromazepam 須 注意 本品 可能 會 性 健忘 使用 較 高 治療 時 可能...\n",
              "3                           Amlobin Celecolen 會 造成 抬腿 防止\n",
              "4                              使用 Crestor 需注意 肌肉 痠痛 的 情形\n",
              "                             ...                        \n",
              "635                              Plavix 與 Xarelto 的 交互作用\n",
              "636                         Omeprazole 與 Eltroxin 的 交互作用\n",
              "637                            Neurontin 與 Baclofen 交互作用\n",
              "638                              Plavix 和 Piracetam 交互作用\n",
              "639                                           此 藥 有 交互作用\n",
              "Name: dfcontent, Length: 640, dtype: object"
            ]
          },
          "metadata": {},
          "execution_count": 119
        }
      ]
    },
    {
      "cell_type": "markdown",
      "source": [
        "#將AA和BB內容(content)匯集建立字典即為稱作語料庫(TextCorpus),所有的文本數據"
      ],
      "metadata": {
        "id": "CMN5ftJKtS_X"
      }
    },
    {
      "cell_type": "code",
      "source": [
        "corpus_x1 = train_df.dfcontent\n",
        "corpus_x2 = test_df.dfcontent\n",
        "corpus = pd.concat([\n",
        "    corpus_x1, corpus_x2])\n",
        "corpus.shape"
      ],
      "metadata": {
        "id": "F0KkV64at6Hz",
        "colab": {
          "base_uri": "https://localhost:8080/"
        },
        "outputId": "39691091-9a4c-466f-e506-01165ecf9caf"
      },
      "execution_count": null,
      "outputs": [
        {
          "output_type": "execute_result",
          "data": {
            "text/plain": [
              "(1280,)"
            ]
          },
          "metadata": {},
          "execution_count": 120
        }
      ]
    },
    {
      "cell_type": "code",
      "source": [
        "pd.DataFrame(corpus.iloc[:5],columns=['dfcontent'])"
      ],
      "metadata": {
        "id": "lsokckwCuDj9",
        "colab": {
          "base_uri": "https://localhost:8080/",
          "height": 206
        },
        "outputId": "269e25c0-81c6-4b9a-97ef-01c1a3787357"
      },
      "execution_count": null,
      "outputs": [
        {
          "output_type": "execute_result",
          "data": {
            "text/plain": [
              "                                           dfcontent\n",
              "0               服用 adarone 宜 避免 或 小心 服用 葡萄柚 汁 請 二 服用\n",
              "1  Topamax 剝半 或 磨粉 後 會 苦味 因 病人 使用 鼻胃 管 所以 不致 此 藥會...\n",
              "2  服用 bromazepam 須 注意 本品 可能 會 性 健忘 使用 較 高 治療 時 可能...\n",
              "3                       Amlobin Celecolen 會 造成 抬腿 防止\n",
              "4                          使用 Crestor 需注意 肌肉 痠痛 的 情形"
            ],
            "text/html": [
              "\n",
              "  <div id=\"df-ee655920-6f69-4471-a850-1576671f2831\">\n",
              "    <div class=\"colab-df-container\">\n",
              "      <div>\n",
              "<style scoped>\n",
              "    .dataframe tbody tr th:only-of-type {\n",
              "        vertical-align: middle;\n",
              "    }\n",
              "\n",
              "    .dataframe tbody tr th {\n",
              "        vertical-align: top;\n",
              "    }\n",
              "\n",
              "    .dataframe thead th {\n",
              "        text-align: right;\n",
              "    }\n",
              "</style>\n",
              "<table border=\"1\" class=\"dataframe\">\n",
              "  <thead>\n",
              "    <tr style=\"text-align: right;\">\n",
              "      <th></th>\n",
              "      <th>dfcontent</th>\n",
              "    </tr>\n",
              "  </thead>\n",
              "  <tbody>\n",
              "    <tr>\n",
              "      <th>0</th>\n",
              "      <td>服用 adarone 宜 避免 或 小心 服用 葡萄柚 汁 請 二 服用</td>\n",
              "    </tr>\n",
              "    <tr>\n",
              "      <th>1</th>\n",
              "      <td>Topamax 剝半 或 磨粉 後 會 苦味 因 病人 使用 鼻胃 管 所以 不致 此 藥會...</td>\n",
              "    </tr>\n",
              "    <tr>\n",
              "      <th>2</th>\n",
              "      <td>服用 bromazepam 須 注意 本品 可能 會 性 健忘 使用 較 高 治療 時 可能...</td>\n",
              "    </tr>\n",
              "    <tr>\n",
              "      <th>3</th>\n",
              "      <td>Amlobin Celecolen 會 造成 抬腿 防止</td>\n",
              "    </tr>\n",
              "    <tr>\n",
              "      <th>4</th>\n",
              "      <td>使用 Crestor 需注意 肌肉 痠痛 的 情形</td>\n",
              "    </tr>\n",
              "  </tbody>\n",
              "</table>\n",
              "</div>\n",
              "      <button class=\"colab-df-convert\" onclick=\"convertToInteractive('df-ee655920-6f69-4471-a850-1576671f2831')\"\n",
              "              title=\"Convert this dataframe to an interactive table.\"\n",
              "              style=\"display:none;\">\n",
              "        \n",
              "  <svg xmlns=\"http://www.w3.org/2000/svg\" height=\"24px\"viewBox=\"0 0 24 24\"\n",
              "       width=\"24px\">\n",
              "    <path d=\"M0 0h24v24H0V0z\" fill=\"none\"/>\n",
              "    <path d=\"M18.56 5.44l.94 2.06.94-2.06 2.06-.94-2.06-.94-.94-2.06-.94 2.06-2.06.94zm-11 1L8.5 8.5l.94-2.06 2.06-.94-2.06-.94L8.5 2.5l-.94 2.06-2.06.94zm10 10l.94 2.06.94-2.06 2.06-.94-2.06-.94-.94-2.06-.94 2.06-2.06.94z\"/><path d=\"M17.41 7.96l-1.37-1.37c-.4-.4-.92-.59-1.43-.59-.52 0-1.04.2-1.43.59L10.3 9.45l-7.72 7.72c-.78.78-.78 2.05 0 2.83L4 21.41c.39.39.9.59 1.41.59.51 0 1.02-.2 1.41-.59l7.78-7.78 2.81-2.81c.8-.78.8-2.07 0-2.86zM5.41 20L4 18.59l7.72-7.72 1.47 1.35L5.41 20z\"/>\n",
              "  </svg>\n",
              "      </button>\n",
              "      \n",
              "  <style>\n",
              "    .colab-df-container {\n",
              "      display:flex;\n",
              "      flex-wrap:wrap;\n",
              "      gap: 12px;\n",
              "    }\n",
              "\n",
              "    .colab-df-convert {\n",
              "      background-color: #E8F0FE;\n",
              "      border: none;\n",
              "      border-radius: 50%;\n",
              "      cursor: pointer;\n",
              "      display: none;\n",
              "      fill: #1967D2;\n",
              "      height: 32px;\n",
              "      padding: 0 0 0 0;\n",
              "      width: 32px;\n",
              "    }\n",
              "\n",
              "    .colab-df-convert:hover {\n",
              "      background-color: #E2EBFA;\n",
              "      box-shadow: 0px 1px 2px rgba(60, 64, 67, 0.3), 0px 1px 3px 1px rgba(60, 64, 67, 0.15);\n",
              "      fill: #174EA6;\n",
              "    }\n",
              "\n",
              "    [theme=dark] .colab-df-convert {\n",
              "      background-color: #3B4455;\n",
              "      fill: #D2E3FC;\n",
              "    }\n",
              "\n",
              "    [theme=dark] .colab-df-convert:hover {\n",
              "      background-color: #434B5C;\n",
              "      box-shadow: 0px 1px 3px 1px rgba(0, 0, 0, 0.15);\n",
              "      filter: drop-shadow(0px 1px 2px rgba(0, 0, 0, 0.3));\n",
              "      fill: #FFFFFF;\n",
              "    }\n",
              "  </style>\n",
              "\n",
              "      <script>\n",
              "        const buttonEl =\n",
              "          document.querySelector('#df-ee655920-6f69-4471-a850-1576671f2831 button.colab-df-convert');\n",
              "        buttonEl.style.display =\n",
              "          google.colab.kernel.accessAllowed ? 'block' : 'none';\n",
              "\n",
              "        async function convertToInteractive(key) {\n",
              "          const element = document.querySelector('#df-ee655920-6f69-4471-a850-1576671f2831');\n",
              "          const dataTable =\n",
              "            await google.colab.kernel.invokeFunction('convertToInteractive',\n",
              "                                                     [key], {});\n",
              "          if (!dataTable) return;\n",
              "\n",
              "          const docLinkHtml = 'Like what you see? Visit the ' +\n",
              "            '<a target=\"_blank\" href=https://colab.research.google.com/notebooks/data_table.ipynb>data table notebook</a>'\n",
              "            + ' to learn more about interactive tables.';\n",
              "          element.innerHTML = '';\n",
              "          dataTable['output_type'] = 'display_data';\n",
              "          await google.colab.output.renderOutput(dataTable, element);\n",
              "          const docLink = document.createElement('div');\n",
              "          docLink.innerHTML = docLinkHtml;\n",
              "          element.appendChild(docLink);\n",
              "        }\n",
              "      </script>\n",
              "    </div>\n",
              "  </div>\n",
              "  "
            ]
          },
          "metadata": {},
          "execution_count": 121
        }
      ]
    },
    {
      "cell_type": "code",
      "source": [
        "#利用語料庫建立字典\n",
        "# 1. Tokenize: I love you -> 1 2 3\n",
        "from tensorflow.keras.preprocessing.text import Tokenizer\n",
        "tok = Tokenizer(num_words=3000)\n",
        "tok.fit_on_texts(corpus)"
      ],
      "metadata": {
        "id": "Zm0186rMu21c"
      },
      "execution_count": null,
      "outputs": []
    },
    {
      "cell_type": "code",
      "source": [
        "x1_train = tok.texts_to_sequences(corpus_x1)\n",
        "x2_train = tok.texts_to_sequences(corpus_x2)"
      ],
      "metadata": {
        "id": "CUbiY0VCT1wl"
      },
      "execution_count": null,
      "outputs": []
    },
    {
      "cell_type": "code",
      "source": [
        "len(x1_train)"
      ],
      "metadata": {
        "colab": {
          "base_uri": "https://localhost:8080/"
        },
        "id": "EzkWDVIgUCat",
        "outputId": "71eb3246-f4d7-4585-8a63-4052a2b043e2"
      },
      "execution_count": null,
      "outputs": [
        {
          "output_type": "execute_result",
          "data": {
            "text/plain": [
              "640"
            ]
          },
          "metadata": {},
          "execution_count": 124
        }
      ]
    },
    {
      "cell_type": "code",
      "source": [
        "x1_train[:1]"
      ],
      "metadata": {
        "colab": {
          "base_uri": "https://localhost:8080/"
        },
        "id": "DOBtVNGVUEi6",
        "outputId": "55a7cdb5-f0e6-47ff-a9ad-fe042be5ba35"
      },
      "execution_count": null,
      "outputs": [
        {
          "output_type": "execute_result",
          "data": {
            "text/plain": [
              "[[5, 403, 284, 46, 33, 285, 5, 201, 202, 21, 514, 5]]"
            ]
          },
          "metadata": {},
          "execution_count": 125
        }
      ]
    },
    {
      "cell_type": "code",
      "source": [
        "for seq in x1_train[:1]:\n",
        "  print([tok.index_word[idx] for idx in seq])"
      ],
      "metadata": {
        "colab": {
          "base_uri": "https://localhost:8080/"
        },
        "id": "ZrDznQF0Um8o",
        "outputId": "3d30d274-50b5-4fa3-eb00-c08d57f40bbd"
      },
      "execution_count": null,
      "outputs": [
        {
          "output_type": "stream",
          "name": "stdout",
          "text": [
            "['服用', 'adarone', '宜', '避免', '或', '小心', '服用', '葡萄柚', '汁', '請', '二', '服用']\n"
          ]
        }
      ]
    },
    {
      "cell_type": "code",
      "source": [
        "##計算最長詞彙長度\n",
        "max_seq_len = max([len(seq) for seq in x2_train])\n",
        "max_seq_len"
      ],
      "metadata": {
        "colab": {
          "base_uri": "https://localhost:8080/"
        },
        "id": "spD95t7FU0D9",
        "outputId": "b294322c-0518-409f-e23b-017e56e9bbaf"
      },
      "execution_count": null,
      "outputs": [
        {
          "output_type": "execute_result",
          "data": {
            "text/plain": [
              "62"
            ]
          },
          "metadata": {},
          "execution_count": 129
        }
      ]
    },
    {
      "cell_type": "markdown",
      "source": [
        "#方法二 利用TensorFlow製作Token"
      ],
      "metadata": {
        "id": "Qa_NZCm9F145"
      }
    },
    {
      "cell_type": "markdown",
      "source": [
        "# 將文本轉換成數字序列"
      ],
      "metadata": {
        "id": "LR_6mbAqH9DK"
      }
    },
    {
      "cell_type": "code",
      "source": [
        "#Step1. Tokenize: I love you -> 1 2 3\n",
        "from tensorflow.keras.preprocessing.text import Tokenizer\n",
        "tok = Tokenizer(num_words=3000)\n",
        "tok.fit_on_texts(train_df[\"dfcontent\"])"
      ],
      "metadata": {
        "id": "508lmI7jF1AM"
      },
      "execution_count": null,
      "outputs": []
    },
    {
      "cell_type": "code",
      "source": [
        "#產生字典\n",
        "tok.word_index\n",
        "# tok.index_word\n",
        "x_train_seq = tok.texts_to_sequences(train_df[\"dfcontent\"])\n",
        "x_test_seq = tok.texts_to_sequences(test_df[\"dfcontent\"])"
      ],
      "metadata": {
        "id": "CUgq1y8tF5qv"
      },
      "execution_count": null,
      "outputs": []
    },
    {
      "cell_type": "code",
      "source": [
        "# len(x_train_seq)\n",
        "# len(x_test_seq)\n",
        "# x_train_seq[:1]\n",
        "# x_test_seq[:1]\n",
        "for seq in x_train_seq[:1]:\n",
        "  print([tok.index_word[idx] for idx in seq])"
      ],
      "metadata": {
        "colab": {
          "base_uri": "https://localhost:8080/"
        },
        "id": "PjxFAow7dj4T",
        "outputId": "bb96d5c6-4d6f-419f-ddf5-d94516c7c3b4"
      },
      "execution_count": null,
      "outputs": [
        {
          "output_type": "stream",
          "name": "stdout",
          "text": [
            "['服用', 'adarone', '宜', '避免', '或', '小心', '服用', '葡萄柚', '汁', '請', '二', '服用']\n"
          ]
        }
      ]
    },
    {
      "cell_type": "code",
      "source": [
        "##將索引數字對應回本來的詞彙\n",
        "for seq in x_train_seq[:2]:\n",
        "    print([tok.index_word[idx] for idx in seq])"
      ],
      "metadata": {
        "colab": {
          "base_uri": "https://localhost:8080/"
        },
        "id": "ro8Ok8PpeQvR",
        "outputId": "052b38bc-d5b4-42bf-c6c0-bae60d069793"
      },
      "execution_count": null,
      "outputs": [
        {
          "output_type": "stream",
          "name": "stdout",
          "text": [
            "['服用', 'adarone', '宜', '避免', '或', '小心', '服用', '葡萄柚', '汁', '請', '二', '服用']\n",
            "['topamax', '剝半', '或', '磨粉', '後', '會', '苦味', '因', '病人', '使用', '鼻胃', '管', '所以', '不致', '此', '藥會', '有', '降低', '情形', '避免', '與', 'ketorolac', 'naproxen', '等', '併', '用', '因為', '可能', '會', '造成', '加重', '若需', '時須']\n"
          ]
        }
      ]
    },
    {
      "cell_type": "code",
      "source": [
        "##查看最長詞彙長度\n",
        "# max_seq_len = max([len(seq) for seq in x_train_seq])\n",
        "max_seq_len = max([len(seq) for seq in x_train_seq])\n",
        "max_seq_len"
      ],
      "metadata": {
        "colab": {
          "base_uri": "https://localhost:8080/"
        },
        "id": "ZvdsIbRQeT9t",
        "outputId": "bd78bb82-a2de-4afe-c7a4-1f7ae6ff351a"
      },
      "execution_count": null,
      "outputs": [
        {
          "output_type": "execute_result",
          "data": {
            "text/plain": [
              "62"
            ]
          },
          "metadata": {},
          "execution_count": 134
        }
      ]
    },
    {
      "cell_type": "code",
      "source": [
        "pd.DataFrame(x_train_seq)"
      ],
      "metadata": {
        "colab": {
          "base_uri": "https://localhost:8080/",
          "height": 424
        },
        "id": "EpgLusTPF-Jv",
        "outputId": "097a73cb-8539-4c95-99a1-578477d7f4cc"
      },
      "execution_count": null,
      "outputs": [
        {
          "output_type": "execute_result",
          "data": {
            "text/plain": [
              "      0      1      2      3      4      5      6      7      8     9   ...  \\\n",
              "0      5  403.0  284.0   46.0   33.0  285.0    5.0  201.0  202.0  21.0  ...   \n",
              "1    515  286.0   33.0  102.0   37.0    4.0  516.0   38.0    8.0   6.0  ...   \n",
              "2      5  404.0   23.0   12.0  288.0   17.0    4.0   57.0  289.0   6.0  ...   \n",
              "3    291  405.0    4.0   60.0  525.0  292.0    NaN    NaN    NaN   NaN  ...   \n",
              "4      6  406.0  124.0   65.0  131.0    1.0   19.0    NaN    NaN   NaN  ...   \n",
              "..   ...    ...    ...    ...    ...    ...    ...    ...    ...   ...  ...   \n",
              "635   62    3.0  508.0    1.0   22.0    NaN    NaN    NaN    NaN   NaN  ...   \n",
              "636  195    3.0  130.0    1.0   22.0    NaN    NaN    NaN    NaN   NaN  ...   \n",
              "637  144    3.0  479.0   22.0    NaN    NaN    NaN    NaN    NaN   NaN  ...   \n",
              "638   62   26.0   80.0   22.0    NaN    NaN    NaN    NaN    NaN   NaN  ...   \n",
              "639   83   67.0    2.0   22.0    NaN    NaN    NaN    NaN    NaN   NaN  ...   \n",
              "\n",
              "     52  53  54  55  56  57  58  59  60  61  \n",
              "0   NaN NaN NaN NaN NaN NaN NaN NaN NaN NaN  \n",
              "1   NaN NaN NaN NaN NaN NaN NaN NaN NaN NaN  \n",
              "2   NaN NaN NaN NaN NaN NaN NaN NaN NaN NaN  \n",
              "3   NaN NaN NaN NaN NaN NaN NaN NaN NaN NaN  \n",
              "4   NaN NaN NaN NaN NaN NaN NaN NaN NaN NaN  \n",
              "..   ..  ..  ..  ..  ..  ..  ..  ..  ..  ..  \n",
              "635 NaN NaN NaN NaN NaN NaN NaN NaN NaN NaN  \n",
              "636 NaN NaN NaN NaN NaN NaN NaN NaN NaN NaN  \n",
              "637 NaN NaN NaN NaN NaN NaN NaN NaN NaN NaN  \n",
              "638 NaN NaN NaN NaN NaN NaN NaN NaN NaN NaN  \n",
              "639 NaN NaN NaN NaN NaN NaN NaN NaN NaN NaN  \n",
              "\n",
              "[640 rows x 62 columns]"
            ],
            "text/html": [
              "\n",
              "  <div id=\"df-24106e91-dad1-4f3e-8d15-daf8712c192e\">\n",
              "    <div class=\"colab-df-container\">\n",
              "      <div>\n",
              "<style scoped>\n",
              "    .dataframe tbody tr th:only-of-type {\n",
              "        vertical-align: middle;\n",
              "    }\n",
              "\n",
              "    .dataframe tbody tr th {\n",
              "        vertical-align: top;\n",
              "    }\n",
              "\n",
              "    .dataframe thead th {\n",
              "        text-align: right;\n",
              "    }\n",
              "</style>\n",
              "<table border=\"1\" class=\"dataframe\">\n",
              "  <thead>\n",
              "    <tr style=\"text-align: right;\">\n",
              "      <th></th>\n",
              "      <th>0</th>\n",
              "      <th>1</th>\n",
              "      <th>2</th>\n",
              "      <th>3</th>\n",
              "      <th>4</th>\n",
              "      <th>5</th>\n",
              "      <th>6</th>\n",
              "      <th>7</th>\n",
              "      <th>8</th>\n",
              "      <th>9</th>\n",
              "      <th>...</th>\n",
              "      <th>52</th>\n",
              "      <th>53</th>\n",
              "      <th>54</th>\n",
              "      <th>55</th>\n",
              "      <th>56</th>\n",
              "      <th>57</th>\n",
              "      <th>58</th>\n",
              "      <th>59</th>\n",
              "      <th>60</th>\n",
              "      <th>61</th>\n",
              "    </tr>\n",
              "  </thead>\n",
              "  <tbody>\n",
              "    <tr>\n",
              "      <th>0</th>\n",
              "      <td>5</td>\n",
              "      <td>403.0</td>\n",
              "      <td>284.0</td>\n",
              "      <td>46.0</td>\n",
              "      <td>33.0</td>\n",
              "      <td>285.0</td>\n",
              "      <td>5.0</td>\n",
              "      <td>201.0</td>\n",
              "      <td>202.0</td>\n",
              "      <td>21.0</td>\n",
              "      <td>...</td>\n",
              "      <td>NaN</td>\n",
              "      <td>NaN</td>\n",
              "      <td>NaN</td>\n",
              "      <td>NaN</td>\n",
              "      <td>NaN</td>\n",
              "      <td>NaN</td>\n",
              "      <td>NaN</td>\n",
              "      <td>NaN</td>\n",
              "      <td>NaN</td>\n",
              "      <td>NaN</td>\n",
              "    </tr>\n",
              "    <tr>\n",
              "      <th>1</th>\n",
              "      <td>515</td>\n",
              "      <td>286.0</td>\n",
              "      <td>33.0</td>\n",
              "      <td>102.0</td>\n",
              "      <td>37.0</td>\n",
              "      <td>4.0</td>\n",
              "      <td>516.0</td>\n",
              "      <td>38.0</td>\n",
              "      <td>8.0</td>\n",
              "      <td>6.0</td>\n",
              "      <td>...</td>\n",
              "      <td>NaN</td>\n",
              "      <td>NaN</td>\n",
              "      <td>NaN</td>\n",
              "      <td>NaN</td>\n",
              "      <td>NaN</td>\n",
              "      <td>NaN</td>\n",
              "      <td>NaN</td>\n",
              "      <td>NaN</td>\n",
              "      <td>NaN</td>\n",
              "      <td>NaN</td>\n",
              "    </tr>\n",
              "    <tr>\n",
              "      <th>2</th>\n",
              "      <td>5</td>\n",
              "      <td>404.0</td>\n",
              "      <td>23.0</td>\n",
              "      <td>12.0</td>\n",
              "      <td>288.0</td>\n",
              "      <td>17.0</td>\n",
              "      <td>4.0</td>\n",
              "      <td>57.0</td>\n",
              "      <td>289.0</td>\n",
              "      <td>6.0</td>\n",
              "      <td>...</td>\n",
              "      <td>NaN</td>\n",
              "      <td>NaN</td>\n",
              "      <td>NaN</td>\n",
              "      <td>NaN</td>\n",
              "      <td>NaN</td>\n",
              "      <td>NaN</td>\n",
              "      <td>NaN</td>\n",
              "      <td>NaN</td>\n",
              "      <td>NaN</td>\n",
              "      <td>NaN</td>\n",
              "    </tr>\n",
              "    <tr>\n",
              "      <th>3</th>\n",
              "      <td>291</td>\n",
              "      <td>405.0</td>\n",
              "      <td>4.0</td>\n",
              "      <td>60.0</td>\n",
              "      <td>525.0</td>\n",
              "      <td>292.0</td>\n",
              "      <td>NaN</td>\n",
              "      <td>NaN</td>\n",
              "      <td>NaN</td>\n",
              "      <td>NaN</td>\n",
              "      <td>...</td>\n",
              "      <td>NaN</td>\n",
              "      <td>NaN</td>\n",
              "      <td>NaN</td>\n",
              "      <td>NaN</td>\n",
              "      <td>NaN</td>\n",
              "      <td>NaN</td>\n",
              "      <td>NaN</td>\n",
              "      <td>NaN</td>\n",
              "      <td>NaN</td>\n",
              "      <td>NaN</td>\n",
              "    </tr>\n",
              "    <tr>\n",
              "      <th>4</th>\n",
              "      <td>6</td>\n",
              "      <td>406.0</td>\n",
              "      <td>124.0</td>\n",
              "      <td>65.0</td>\n",
              "      <td>131.0</td>\n",
              "      <td>1.0</td>\n",
              "      <td>19.0</td>\n",
              "      <td>NaN</td>\n",
              "      <td>NaN</td>\n",
              "      <td>NaN</td>\n",
              "      <td>...</td>\n",
              "      <td>NaN</td>\n",
              "      <td>NaN</td>\n",
              "      <td>NaN</td>\n",
              "      <td>NaN</td>\n",
              "      <td>NaN</td>\n",
              "      <td>NaN</td>\n",
              "      <td>NaN</td>\n",
              "      <td>NaN</td>\n",
              "      <td>NaN</td>\n",
              "      <td>NaN</td>\n",
              "    </tr>\n",
              "    <tr>\n",
              "      <th>...</th>\n",
              "      <td>...</td>\n",
              "      <td>...</td>\n",
              "      <td>...</td>\n",
              "      <td>...</td>\n",
              "      <td>...</td>\n",
              "      <td>...</td>\n",
              "      <td>...</td>\n",
              "      <td>...</td>\n",
              "      <td>...</td>\n",
              "      <td>...</td>\n",
              "      <td>...</td>\n",
              "      <td>...</td>\n",
              "      <td>...</td>\n",
              "      <td>...</td>\n",
              "      <td>...</td>\n",
              "      <td>...</td>\n",
              "      <td>...</td>\n",
              "      <td>...</td>\n",
              "      <td>...</td>\n",
              "      <td>...</td>\n",
              "      <td>...</td>\n",
              "    </tr>\n",
              "    <tr>\n",
              "      <th>635</th>\n",
              "      <td>62</td>\n",
              "      <td>3.0</td>\n",
              "      <td>508.0</td>\n",
              "      <td>1.0</td>\n",
              "      <td>22.0</td>\n",
              "      <td>NaN</td>\n",
              "      <td>NaN</td>\n",
              "      <td>NaN</td>\n",
              "      <td>NaN</td>\n",
              "      <td>NaN</td>\n",
              "      <td>...</td>\n",
              "      <td>NaN</td>\n",
              "      <td>NaN</td>\n",
              "      <td>NaN</td>\n",
              "      <td>NaN</td>\n",
              "      <td>NaN</td>\n",
              "      <td>NaN</td>\n",
              "      <td>NaN</td>\n",
              "      <td>NaN</td>\n",
              "      <td>NaN</td>\n",
              "      <td>NaN</td>\n",
              "    </tr>\n",
              "    <tr>\n",
              "      <th>636</th>\n",
              "      <td>195</td>\n",
              "      <td>3.0</td>\n",
              "      <td>130.0</td>\n",
              "      <td>1.0</td>\n",
              "      <td>22.0</td>\n",
              "      <td>NaN</td>\n",
              "      <td>NaN</td>\n",
              "      <td>NaN</td>\n",
              "      <td>NaN</td>\n",
              "      <td>NaN</td>\n",
              "      <td>...</td>\n",
              "      <td>NaN</td>\n",
              "      <td>NaN</td>\n",
              "      <td>NaN</td>\n",
              "      <td>NaN</td>\n",
              "      <td>NaN</td>\n",
              "      <td>NaN</td>\n",
              "      <td>NaN</td>\n",
              "      <td>NaN</td>\n",
              "      <td>NaN</td>\n",
              "      <td>NaN</td>\n",
              "    </tr>\n",
              "    <tr>\n",
              "      <th>637</th>\n",
              "      <td>144</td>\n",
              "      <td>3.0</td>\n",
              "      <td>479.0</td>\n",
              "      <td>22.0</td>\n",
              "      <td>NaN</td>\n",
              "      <td>NaN</td>\n",
              "      <td>NaN</td>\n",
              "      <td>NaN</td>\n",
              "      <td>NaN</td>\n",
              "      <td>NaN</td>\n",
              "      <td>...</td>\n",
              "      <td>NaN</td>\n",
              "      <td>NaN</td>\n",
              "      <td>NaN</td>\n",
              "      <td>NaN</td>\n",
              "      <td>NaN</td>\n",
              "      <td>NaN</td>\n",
              "      <td>NaN</td>\n",
              "      <td>NaN</td>\n",
              "      <td>NaN</td>\n",
              "      <td>NaN</td>\n",
              "    </tr>\n",
              "    <tr>\n",
              "      <th>638</th>\n",
              "      <td>62</td>\n",
              "      <td>26.0</td>\n",
              "      <td>80.0</td>\n",
              "      <td>22.0</td>\n",
              "      <td>NaN</td>\n",
              "      <td>NaN</td>\n",
              "      <td>NaN</td>\n",
              "      <td>NaN</td>\n",
              "      <td>NaN</td>\n",
              "      <td>NaN</td>\n",
              "      <td>...</td>\n",
              "      <td>NaN</td>\n",
              "      <td>NaN</td>\n",
              "      <td>NaN</td>\n",
              "      <td>NaN</td>\n",
              "      <td>NaN</td>\n",
              "      <td>NaN</td>\n",
              "      <td>NaN</td>\n",
              "      <td>NaN</td>\n",
              "      <td>NaN</td>\n",
              "      <td>NaN</td>\n",
              "    </tr>\n",
              "    <tr>\n",
              "      <th>639</th>\n",
              "      <td>83</td>\n",
              "      <td>67.0</td>\n",
              "      <td>2.0</td>\n",
              "      <td>22.0</td>\n",
              "      <td>NaN</td>\n",
              "      <td>NaN</td>\n",
              "      <td>NaN</td>\n",
              "      <td>NaN</td>\n",
              "      <td>NaN</td>\n",
              "      <td>NaN</td>\n",
              "      <td>...</td>\n",
              "      <td>NaN</td>\n",
              "      <td>NaN</td>\n",
              "      <td>NaN</td>\n",
              "      <td>NaN</td>\n",
              "      <td>NaN</td>\n",
              "      <td>NaN</td>\n",
              "      <td>NaN</td>\n",
              "      <td>NaN</td>\n",
              "      <td>NaN</td>\n",
              "      <td>NaN</td>\n",
              "    </tr>\n",
              "  </tbody>\n",
              "</table>\n",
              "<p>640 rows × 62 columns</p>\n",
              "</div>\n",
              "      <button class=\"colab-df-convert\" onclick=\"convertToInteractive('df-24106e91-dad1-4f3e-8d15-daf8712c192e')\"\n",
              "              title=\"Convert this dataframe to an interactive table.\"\n",
              "              style=\"display:none;\">\n",
              "        \n",
              "  <svg xmlns=\"http://www.w3.org/2000/svg\" height=\"24px\"viewBox=\"0 0 24 24\"\n",
              "       width=\"24px\">\n",
              "    <path d=\"M0 0h24v24H0V0z\" fill=\"none\"/>\n",
              "    <path d=\"M18.56 5.44l.94 2.06.94-2.06 2.06-.94-2.06-.94-.94-2.06-.94 2.06-2.06.94zm-11 1L8.5 8.5l.94-2.06 2.06-.94-2.06-.94L8.5 2.5l-.94 2.06-2.06.94zm10 10l.94 2.06.94-2.06 2.06-.94-2.06-.94-.94-2.06-.94 2.06-2.06.94z\"/><path d=\"M17.41 7.96l-1.37-1.37c-.4-.4-.92-.59-1.43-.59-.52 0-1.04.2-1.43.59L10.3 9.45l-7.72 7.72c-.78.78-.78 2.05 0 2.83L4 21.41c.39.39.9.59 1.41.59.51 0 1.02-.2 1.41-.59l7.78-7.78 2.81-2.81c.8-.78.8-2.07 0-2.86zM5.41 20L4 18.59l7.72-7.72 1.47 1.35L5.41 20z\"/>\n",
              "  </svg>\n",
              "      </button>\n",
              "      \n",
              "  <style>\n",
              "    .colab-df-container {\n",
              "      display:flex;\n",
              "      flex-wrap:wrap;\n",
              "      gap: 12px;\n",
              "    }\n",
              "\n",
              "    .colab-df-convert {\n",
              "      background-color: #E8F0FE;\n",
              "      border: none;\n",
              "      border-radius: 50%;\n",
              "      cursor: pointer;\n",
              "      display: none;\n",
              "      fill: #1967D2;\n",
              "      height: 32px;\n",
              "      padding: 0 0 0 0;\n",
              "      width: 32px;\n",
              "    }\n",
              "\n",
              "    .colab-df-convert:hover {\n",
              "      background-color: #E2EBFA;\n",
              "      box-shadow: 0px 1px 2px rgba(60, 64, 67, 0.3), 0px 1px 3px 1px rgba(60, 64, 67, 0.15);\n",
              "      fill: #174EA6;\n",
              "    }\n",
              "\n",
              "    [theme=dark] .colab-df-convert {\n",
              "      background-color: #3B4455;\n",
              "      fill: #D2E3FC;\n",
              "    }\n",
              "\n",
              "    [theme=dark] .colab-df-convert:hover {\n",
              "      background-color: #434B5C;\n",
              "      box-shadow: 0px 1px 3px 1px rgba(0, 0, 0, 0.15);\n",
              "      filter: drop-shadow(0px 1px 2px rgba(0, 0, 0, 0.3));\n",
              "      fill: #FFFFFF;\n",
              "    }\n",
              "  </style>\n",
              "\n",
              "      <script>\n",
              "        const buttonEl =\n",
              "          document.querySelector('#df-24106e91-dad1-4f3e-8d15-daf8712c192e button.colab-df-convert');\n",
              "        buttonEl.style.display =\n",
              "          google.colab.kernel.accessAllowed ? 'block' : 'none';\n",
              "\n",
              "        async function convertToInteractive(key) {\n",
              "          const element = document.querySelector('#df-24106e91-dad1-4f3e-8d15-daf8712c192e');\n",
              "          const dataTable =\n",
              "            await google.colab.kernel.invokeFunction('convertToInteractive',\n",
              "                                                     [key], {});\n",
              "          if (!dataTable) return;\n",
              "\n",
              "          const docLinkHtml = 'Like what you see? Visit the ' +\n",
              "            '<a target=\"_blank\" href=https://colab.research.google.com/notebooks/data_table.ipynb>data table notebook</a>'\n",
              "            + ' to learn more about interactive tables.';\n",
              "          element.innerHTML = '';\n",
              "          dataTable['output_type'] = 'display_data';\n",
              "          await google.colab.output.renderOutput(dataTable, element);\n",
              "          const docLink = document.createElement('div');\n",
              "          docLink.innerHTML = docLinkHtml;\n",
              "          element.appendChild(docLink);\n",
              "        }\n",
              "      </script>\n",
              "    </div>\n",
              "  </div>\n",
              "  "
            ]
          },
          "metadata": {},
          "execution_count": 135
        }
      ]
    },
    {
      "cell_type": "markdown",
      "source": [
        "# word2vec 轉成高維空間向量"
      ],
      "metadata": {
        "id": "cW9roLljIhzl"
      }
    },
    {
      "cell_type": "code",
      "source": [
        "#Step2. padding: 把所有序列變成一樣長 把所有序列截長補短 預處理\n",
        "from tensorflow.keras.preprocessing.sequence import pad_sequences\n",
        "x_train_pad = pad_sequences(x_train_seq, maxlen=62)\n",
        "x_test_pad = pad_sequences(x_test_seq, maxlen=62)"
      ],
      "metadata": {
        "id": "i-4Xe9haGABD"
      },
      "execution_count": null,
      "outputs": []
    },
    {
      "cell_type": "code",
      "source": [
        "# pd.DataFrame(x_train_pad)\n",
        "pd.DataFrame(x_test_pad)"
      ],
      "metadata": {
        "colab": {
          "base_uri": "https://localhost:8080/",
          "height": 424
        },
        "id": "Ow9GABv0GBiD",
        "outputId": "dcb1ef2f-d146-48eb-b8c6-294ff7424112"
      },
      "execution_count": null,
      "outputs": [
        {
          "output_type": "execute_result",
          "data": {
            "text/plain": [
              "     0   1   2   3   4   5   6   7   8   9   ...   52   53  54   55   56   57  \\\n",
              "0     0   0   0   0   0   0   0   0   0   0  ...  284   46  33  285    5  201   \n",
              "1     0   0   0   0   0   0   0   0   0   0  ...   71    9  10   51   17    4   \n",
              "2     0   0   0   0   0   0   0   0   0   0  ...   57  289  28  523  524  290   \n",
              "3     0   0   0   0   0   0   0   0   0   0  ...    0    0   0    0  291  405   \n",
              "4     0   0   0   0   0   0   0   0   0   0  ...    0    0   0    6  406  124   \n",
              "..   ..  ..  ..  ..  ..  ..  ..  ..  ..  ..  ...  ...  ...  ..  ...  ...  ...   \n",
              "635   0   0   0   0   0   0   0   0   0   0  ...    0    0   0    0    0   62   \n",
              "636   0   0   0   0   0   0   0   0   0   0  ...    0    0   0    0    0  195   \n",
              "637   0   0   0   0   0   0   0   0   0   0  ...    0    0   0    0    0    0   \n",
              "638   0   0   0   0   0   0   0   0   0   0  ...    0    0   0    0    0    0   \n",
              "639   0   0   0   0   0   0   0   0   0   0  ...    0    0   0    0    0    0   \n",
              "\n",
              "      58   59   60   61  \n",
              "0    202   21  514    5  \n",
              "1     60  520  521  522  \n",
              "2     34   45  290   34  \n",
              "3      4   60  525  292  \n",
              "4     65  131    1   19  \n",
              "..   ...  ...  ...  ...  \n",
              "635    3  508    1   22  \n",
              "636    3  130    1   22  \n",
              "637  144    3  479   22  \n",
              "638   62   26   80   22  \n",
              "639   83   67    2   22  \n",
              "\n",
              "[640 rows x 62 columns]"
            ],
            "text/html": [
              "\n",
              "  <div id=\"df-8a625f24-47c5-4451-905e-3e46fd58ca62\">\n",
              "    <div class=\"colab-df-container\">\n",
              "      <div>\n",
              "<style scoped>\n",
              "    .dataframe tbody tr th:only-of-type {\n",
              "        vertical-align: middle;\n",
              "    }\n",
              "\n",
              "    .dataframe tbody tr th {\n",
              "        vertical-align: top;\n",
              "    }\n",
              "\n",
              "    .dataframe thead th {\n",
              "        text-align: right;\n",
              "    }\n",
              "</style>\n",
              "<table border=\"1\" class=\"dataframe\">\n",
              "  <thead>\n",
              "    <tr style=\"text-align: right;\">\n",
              "      <th></th>\n",
              "      <th>0</th>\n",
              "      <th>1</th>\n",
              "      <th>2</th>\n",
              "      <th>3</th>\n",
              "      <th>4</th>\n",
              "      <th>5</th>\n",
              "      <th>6</th>\n",
              "      <th>7</th>\n",
              "      <th>8</th>\n",
              "      <th>9</th>\n",
              "      <th>...</th>\n",
              "      <th>52</th>\n",
              "      <th>53</th>\n",
              "      <th>54</th>\n",
              "      <th>55</th>\n",
              "      <th>56</th>\n",
              "      <th>57</th>\n",
              "      <th>58</th>\n",
              "      <th>59</th>\n",
              "      <th>60</th>\n",
              "      <th>61</th>\n",
              "    </tr>\n",
              "  </thead>\n",
              "  <tbody>\n",
              "    <tr>\n",
              "      <th>0</th>\n",
              "      <td>0</td>\n",
              "      <td>0</td>\n",
              "      <td>0</td>\n",
              "      <td>0</td>\n",
              "      <td>0</td>\n",
              "      <td>0</td>\n",
              "      <td>0</td>\n",
              "      <td>0</td>\n",
              "      <td>0</td>\n",
              "      <td>0</td>\n",
              "      <td>...</td>\n",
              "      <td>284</td>\n",
              "      <td>46</td>\n",
              "      <td>33</td>\n",
              "      <td>285</td>\n",
              "      <td>5</td>\n",
              "      <td>201</td>\n",
              "      <td>202</td>\n",
              "      <td>21</td>\n",
              "      <td>514</td>\n",
              "      <td>5</td>\n",
              "    </tr>\n",
              "    <tr>\n",
              "      <th>1</th>\n",
              "      <td>0</td>\n",
              "      <td>0</td>\n",
              "      <td>0</td>\n",
              "      <td>0</td>\n",
              "      <td>0</td>\n",
              "      <td>0</td>\n",
              "      <td>0</td>\n",
              "      <td>0</td>\n",
              "      <td>0</td>\n",
              "      <td>0</td>\n",
              "      <td>...</td>\n",
              "      <td>71</td>\n",
              "      <td>9</td>\n",
              "      <td>10</td>\n",
              "      <td>51</td>\n",
              "      <td>17</td>\n",
              "      <td>4</td>\n",
              "      <td>60</td>\n",
              "      <td>520</td>\n",
              "      <td>521</td>\n",
              "      <td>522</td>\n",
              "    </tr>\n",
              "    <tr>\n",
              "      <th>2</th>\n",
              "      <td>0</td>\n",
              "      <td>0</td>\n",
              "      <td>0</td>\n",
              "      <td>0</td>\n",
              "      <td>0</td>\n",
              "      <td>0</td>\n",
              "      <td>0</td>\n",
              "      <td>0</td>\n",
              "      <td>0</td>\n",
              "      <td>0</td>\n",
              "      <td>...</td>\n",
              "      <td>57</td>\n",
              "      <td>289</td>\n",
              "      <td>28</td>\n",
              "      <td>523</td>\n",
              "      <td>524</td>\n",
              "      <td>290</td>\n",
              "      <td>34</td>\n",
              "      <td>45</td>\n",
              "      <td>290</td>\n",
              "      <td>34</td>\n",
              "    </tr>\n",
              "    <tr>\n",
              "      <th>3</th>\n",
              "      <td>0</td>\n",
              "      <td>0</td>\n",
              "      <td>0</td>\n",
              "      <td>0</td>\n",
              "      <td>0</td>\n",
              "      <td>0</td>\n",
              "      <td>0</td>\n",
              "      <td>0</td>\n",
              "      <td>0</td>\n",
              "      <td>0</td>\n",
              "      <td>...</td>\n",
              "      <td>0</td>\n",
              "      <td>0</td>\n",
              "      <td>0</td>\n",
              "      <td>0</td>\n",
              "      <td>291</td>\n",
              "      <td>405</td>\n",
              "      <td>4</td>\n",
              "      <td>60</td>\n",
              "      <td>525</td>\n",
              "      <td>292</td>\n",
              "    </tr>\n",
              "    <tr>\n",
              "      <th>4</th>\n",
              "      <td>0</td>\n",
              "      <td>0</td>\n",
              "      <td>0</td>\n",
              "      <td>0</td>\n",
              "      <td>0</td>\n",
              "      <td>0</td>\n",
              "      <td>0</td>\n",
              "      <td>0</td>\n",
              "      <td>0</td>\n",
              "      <td>0</td>\n",
              "      <td>...</td>\n",
              "      <td>0</td>\n",
              "      <td>0</td>\n",
              "      <td>0</td>\n",
              "      <td>6</td>\n",
              "      <td>406</td>\n",
              "      <td>124</td>\n",
              "      <td>65</td>\n",
              "      <td>131</td>\n",
              "      <td>1</td>\n",
              "      <td>19</td>\n",
              "    </tr>\n",
              "    <tr>\n",
              "      <th>...</th>\n",
              "      <td>...</td>\n",
              "      <td>...</td>\n",
              "      <td>...</td>\n",
              "      <td>...</td>\n",
              "      <td>...</td>\n",
              "      <td>...</td>\n",
              "      <td>...</td>\n",
              "      <td>...</td>\n",
              "      <td>...</td>\n",
              "      <td>...</td>\n",
              "      <td>...</td>\n",
              "      <td>...</td>\n",
              "      <td>...</td>\n",
              "      <td>...</td>\n",
              "      <td>...</td>\n",
              "      <td>...</td>\n",
              "      <td>...</td>\n",
              "      <td>...</td>\n",
              "      <td>...</td>\n",
              "      <td>...</td>\n",
              "      <td>...</td>\n",
              "    </tr>\n",
              "    <tr>\n",
              "      <th>635</th>\n",
              "      <td>0</td>\n",
              "      <td>0</td>\n",
              "      <td>0</td>\n",
              "      <td>0</td>\n",
              "      <td>0</td>\n",
              "      <td>0</td>\n",
              "      <td>0</td>\n",
              "      <td>0</td>\n",
              "      <td>0</td>\n",
              "      <td>0</td>\n",
              "      <td>...</td>\n",
              "      <td>0</td>\n",
              "      <td>0</td>\n",
              "      <td>0</td>\n",
              "      <td>0</td>\n",
              "      <td>0</td>\n",
              "      <td>62</td>\n",
              "      <td>3</td>\n",
              "      <td>508</td>\n",
              "      <td>1</td>\n",
              "      <td>22</td>\n",
              "    </tr>\n",
              "    <tr>\n",
              "      <th>636</th>\n",
              "      <td>0</td>\n",
              "      <td>0</td>\n",
              "      <td>0</td>\n",
              "      <td>0</td>\n",
              "      <td>0</td>\n",
              "      <td>0</td>\n",
              "      <td>0</td>\n",
              "      <td>0</td>\n",
              "      <td>0</td>\n",
              "      <td>0</td>\n",
              "      <td>...</td>\n",
              "      <td>0</td>\n",
              "      <td>0</td>\n",
              "      <td>0</td>\n",
              "      <td>0</td>\n",
              "      <td>0</td>\n",
              "      <td>195</td>\n",
              "      <td>3</td>\n",
              "      <td>130</td>\n",
              "      <td>1</td>\n",
              "      <td>22</td>\n",
              "    </tr>\n",
              "    <tr>\n",
              "      <th>637</th>\n",
              "      <td>0</td>\n",
              "      <td>0</td>\n",
              "      <td>0</td>\n",
              "      <td>0</td>\n",
              "      <td>0</td>\n",
              "      <td>0</td>\n",
              "      <td>0</td>\n",
              "      <td>0</td>\n",
              "      <td>0</td>\n",
              "      <td>0</td>\n",
              "      <td>...</td>\n",
              "      <td>0</td>\n",
              "      <td>0</td>\n",
              "      <td>0</td>\n",
              "      <td>0</td>\n",
              "      <td>0</td>\n",
              "      <td>0</td>\n",
              "      <td>144</td>\n",
              "      <td>3</td>\n",
              "      <td>479</td>\n",
              "      <td>22</td>\n",
              "    </tr>\n",
              "    <tr>\n",
              "      <th>638</th>\n",
              "      <td>0</td>\n",
              "      <td>0</td>\n",
              "      <td>0</td>\n",
              "      <td>0</td>\n",
              "      <td>0</td>\n",
              "      <td>0</td>\n",
              "      <td>0</td>\n",
              "      <td>0</td>\n",
              "      <td>0</td>\n",
              "      <td>0</td>\n",
              "      <td>...</td>\n",
              "      <td>0</td>\n",
              "      <td>0</td>\n",
              "      <td>0</td>\n",
              "      <td>0</td>\n",
              "      <td>0</td>\n",
              "      <td>0</td>\n",
              "      <td>62</td>\n",
              "      <td>26</td>\n",
              "      <td>80</td>\n",
              "      <td>22</td>\n",
              "    </tr>\n",
              "    <tr>\n",
              "      <th>639</th>\n",
              "      <td>0</td>\n",
              "      <td>0</td>\n",
              "      <td>0</td>\n",
              "      <td>0</td>\n",
              "      <td>0</td>\n",
              "      <td>0</td>\n",
              "      <td>0</td>\n",
              "      <td>0</td>\n",
              "      <td>0</td>\n",
              "      <td>0</td>\n",
              "      <td>...</td>\n",
              "      <td>0</td>\n",
              "      <td>0</td>\n",
              "      <td>0</td>\n",
              "      <td>0</td>\n",
              "      <td>0</td>\n",
              "      <td>0</td>\n",
              "      <td>83</td>\n",
              "      <td>67</td>\n",
              "      <td>2</td>\n",
              "      <td>22</td>\n",
              "    </tr>\n",
              "  </tbody>\n",
              "</table>\n",
              "<p>640 rows × 62 columns</p>\n",
              "</div>\n",
              "      <button class=\"colab-df-convert\" onclick=\"convertToInteractive('df-8a625f24-47c5-4451-905e-3e46fd58ca62')\"\n",
              "              title=\"Convert this dataframe to an interactive table.\"\n",
              "              style=\"display:none;\">\n",
              "        \n",
              "  <svg xmlns=\"http://www.w3.org/2000/svg\" height=\"24px\"viewBox=\"0 0 24 24\"\n",
              "       width=\"24px\">\n",
              "    <path d=\"M0 0h24v24H0V0z\" fill=\"none\"/>\n",
              "    <path d=\"M18.56 5.44l.94 2.06.94-2.06 2.06-.94-2.06-.94-.94-2.06-.94 2.06-2.06.94zm-11 1L8.5 8.5l.94-2.06 2.06-.94-2.06-.94L8.5 2.5l-.94 2.06-2.06.94zm10 10l.94 2.06.94-2.06 2.06-.94-2.06-.94-.94-2.06-.94 2.06-2.06.94z\"/><path d=\"M17.41 7.96l-1.37-1.37c-.4-.4-.92-.59-1.43-.59-.52 0-1.04.2-1.43.59L10.3 9.45l-7.72 7.72c-.78.78-.78 2.05 0 2.83L4 21.41c.39.39.9.59 1.41.59.51 0 1.02-.2 1.41-.59l7.78-7.78 2.81-2.81c.8-.78.8-2.07 0-2.86zM5.41 20L4 18.59l7.72-7.72 1.47 1.35L5.41 20z\"/>\n",
              "  </svg>\n",
              "      </button>\n",
              "      \n",
              "  <style>\n",
              "    .colab-df-container {\n",
              "      display:flex;\n",
              "      flex-wrap:wrap;\n",
              "      gap: 12px;\n",
              "    }\n",
              "\n",
              "    .colab-df-convert {\n",
              "      background-color: #E8F0FE;\n",
              "      border: none;\n",
              "      border-radius: 50%;\n",
              "      cursor: pointer;\n",
              "      display: none;\n",
              "      fill: #1967D2;\n",
              "      height: 32px;\n",
              "      padding: 0 0 0 0;\n",
              "      width: 32px;\n",
              "    }\n",
              "\n",
              "    .colab-df-convert:hover {\n",
              "      background-color: #E2EBFA;\n",
              "      box-shadow: 0px 1px 2px rgba(60, 64, 67, 0.3), 0px 1px 3px 1px rgba(60, 64, 67, 0.15);\n",
              "      fill: #174EA6;\n",
              "    }\n",
              "\n",
              "    [theme=dark] .colab-df-convert {\n",
              "      background-color: #3B4455;\n",
              "      fill: #D2E3FC;\n",
              "    }\n",
              "\n",
              "    [theme=dark] .colab-df-convert:hover {\n",
              "      background-color: #434B5C;\n",
              "      box-shadow: 0px 1px 3px 1px rgba(0, 0, 0, 0.15);\n",
              "      filter: drop-shadow(0px 1px 2px rgba(0, 0, 0, 0.3));\n",
              "      fill: #FFFFFF;\n",
              "    }\n",
              "  </style>\n",
              "\n",
              "      <script>\n",
              "        const buttonEl =\n",
              "          document.querySelector('#df-8a625f24-47c5-4451-905e-3e46fd58ca62 button.colab-df-convert');\n",
              "        buttonEl.style.display =\n",
              "          google.colab.kernel.accessAllowed ? 'block' : 'none';\n",
              "\n",
              "        async function convertToInteractive(key) {\n",
              "          const element = document.querySelector('#df-8a625f24-47c5-4451-905e-3e46fd58ca62');\n",
              "          const dataTable =\n",
              "            await google.colab.kernel.invokeFunction('convertToInteractive',\n",
              "                                                     [key], {});\n",
              "          if (!dataTable) return;\n",
              "\n",
              "          const docLinkHtml = 'Like what you see? Visit the ' +\n",
              "            '<a target=\"_blank\" href=https://colab.research.google.com/notebooks/data_table.ipynb>data table notebook</a>'\n",
              "            + ' to learn more about interactive tables.';\n",
              "          element.innerHTML = '';\n",
              "          dataTable['output_type'] = 'display_data';\n",
              "          await google.colab.output.renderOutput(dataTable, element);\n",
              "          const docLink = document.createElement('div');\n",
              "          docLink.innerHTML = docLinkHtml;\n",
              "          element.appendChild(docLink);\n",
              "        }\n",
              "      </script>\n",
              "    </div>\n",
              "  </div>\n",
              "  "
            ]
          },
          "metadata": {},
          "execution_count": 138
        }
      ]
    },
    {
      "cell_type": "markdown",
      "source": [
        "##將正解做 One-hot Encoding 分類欄位 label 要進行從文本到數字的轉換"
      ],
      "metadata": {
        "id": "BPpauSjaqSdj"
      }
    },
    {
      "cell_type": "code",
      "source": [
        "# train_df.sentiment[:-1] ##train_df\n",
        "# print(type(train.sentiment[:-1]))"
      ],
      "metadata": {
        "colab": {
          "base_uri": "https://localhost:8080/"
        },
        "id": "sIeW20-dQWIC",
        "outputId": "363d1048-a9c6-49ff-9433-50e153d14c91"
      },
      "execution_count": null,
      "outputs": [
        {
          "output_type": "execute_result",
          "data": {
            "text/plain": [
              "0      7\n",
              "1      7\n",
              "2      7\n",
              "3      7\n",
              "4      7\n",
              "      ..\n",
              "634    3\n",
              "635    3\n",
              "636    3\n",
              "637    3\n",
              "638    3\n",
              "Name: sentiment, Length: 639, dtype: int64"
            ]
          },
          "metadata": {},
          "execution_count": 139
        }
      ]
    },
    {
      "cell_type": "code",
      "source": [
        "# import numpy as np \n",
        "\n",
        "# ##定義 train_df 每一個分類對應到的索引數字\n",
        "# label_to_index = {\n",
        "#     \"AA22\":0,\n",
        "#     \"AA31\":1,\n",
        "#     \"AA51\":2,\n",
        "#     \"AA61\":3,\n",
        "#     \"AA55\":4,\n",
        "#     \"AA65\":5,\n",
        "#     \"AA11\":6,\n",
        "#     \"AA00\":7\n",
        "# }\n",
        "\n",
        "# # 將分類標籤對應到剛定義的數字\n",
        "# y_train = train_df.sentiment.apply(\n",
        "#     lambda x: label_to_index[x])\n",
        "\n",
        "# y_train = np.asarray(y_train).astype('float32')\n",
        "\n",
        "# print(len(y_train[:-1]))\n",
        "# y_train[:3]"
      ],
      "metadata": {
        "colab": {
          "base_uri": "https://localhost:8080/"
        },
        "id": "LvY5JJCpiQ_M",
        "outputId": "6623e767-c0d7-4e5a-d346-60b34aeb2ef5"
      },
      "execution_count": null,
      "outputs": [
        {
          "output_type": "stream",
          "name": "stdout",
          "text": [
            "639\n"
          ]
        },
        {
          "output_type": "execute_result",
          "data": {
            "text/plain": [
              "array([7., 7., 7.], dtype=float32)"
            ]
          },
          "metadata": {},
          "execution_count": 71
        }
      ]
    },
    {
      "cell_type": "code",
      "source": [
        "# from keras.utils import np_utils\n",
        "# y_train = np_utils.to_categorical(y_train, num_classes=8, dtype='float32')\n"
      ],
      "metadata": {
        "id": "wTsLoqtanCCa"
      },
      "execution_count": null,
      "outputs": []
    },
    {
      "cell_type": "code",
      "source": [
        "# y_train[100:200]"
      ],
      "metadata": {
        "colab": {
          "base_uri": "https://localhost:8080/"
        },
        "id": "k77HQ8Fd0CzD",
        "outputId": "db95cae4-b7b9-4ead-880f-6ca7bcd178a2"
      },
      "execution_count": null,
      "outputs": [
        {
          "output_type": "execute_result",
          "data": {
            "text/plain": [
              "array(['AA00', 'AA00', 'AA00', 'AA00', 'AA00', 'AA00', 'AA00', 'AA00',\n",
              "       'AA00', 'AA00', 'AA00', 'AA00', 'AA00', 'AA00', 'AA00', 'AA00',\n",
              "       'AA00', 'AA00', 'AA00', 'AA00', 'AA00', 'AA00', 'AA00', 'AA00',\n",
              "       'AA00', 'AA00', 'AA00', 'AA00', 'AA00', 'AA00', 'AA00', 'AA00',\n",
              "       'AA00', 'AA00', 'AA00', 'AA00', 'AA00', 'AA00', 'AA00', 'AA00',\n",
              "       'AA00', 'AA00', 'AA00', 'AA00', 'AA00', 'AA00', 'AA00', 'AA00',\n",
              "       'AA00', 'AA00', 'AA00', 'AA00', 'AA65', 'AA65', 'AA65', 'AA65',\n",
              "       'AA65', 'AA65', 'AA65', 'AA65', 'AA65', 'AA65', 'AA65', 'AA65',\n",
              "       'AA65', 'AA65', 'AA65', 'AA65', 'AA65', 'AA65', 'AA65', 'AA65',\n",
              "       'AA65', 'AA65', 'AA65', 'AA65', 'AA65', 'AA65', 'AA65', 'AA65',\n",
              "       'AA65', 'AA65', 'AA65', 'AA65', 'AA65', 'AA65', 'AA65', 'AA65',\n",
              "       'AA65', 'AA65', 'AA65', 'AA65', 'AA11', 'AA11', 'AA11', 'AA11',\n",
              "       'AA11', 'AA11', 'AA11', 'AA11'], dtype=object)"
            ]
          },
          "metadata": {},
          "execution_count": 93
        }
      ]
    },
    {
      "cell_type": "code",
      "source": [
        "##轉換為空間向量\n",
        "# train_df = np.array(train_df)\n",
        "# test_df = np.array(test_df)"
      ],
      "metadata": {
        "id": "lEuFf9FlqLTU"
      },
      "execution_count": null,
      "outputs": []
    },
    {
      "cell_type": "markdown",
      "source": [
        "#整個訓練資料集（Training Set）切成 2 個部分90%/10% 避免Overfitting產生"
      ],
      "metadata": {
        "id": "uN7O20zW06SG"
      }
    },
    {
      "cell_type": "markdown",
      "source": [
        "# 建立空模型"
      ],
      "metadata": {
        "id": "zEGtyweMWrsa"
      }
    },
    {
      "cell_type": "code",
      "source": [
        "from threading import active_count\n",
        "#Embedding\n",
        "from tensorflow.keras.models import Sequential\n",
        "from tensorflow.keras.layers import Embedding,GlobalAveragePooling1D,Dense\n",
        "\n",
        "layers=[\n",
        "  Embedding(3001,100,mask_zero=True,input_length=62),\n",
        "  GlobalAveragePooling1D(),\n",
        "  Dense(8,activation=\"softmax\")\n",
        "]\n",
        "model=Sequential(layers)\n",
        "model.summary()"
      ],
      "metadata": {
        "colab": {
          "base_uri": "https://localhost:8080/"
        },
        "id": "-0wIe9zbrFv0",
        "outputId": "0f2b0a61-bcc9-4b74-c602-4744857826ca"
      },
      "execution_count": null,
      "outputs": [
        {
          "output_type": "stream",
          "name": "stdout",
          "text": [
            "Model: \"sequential_1\"\n",
            "_________________________________________________________________\n",
            " Layer (type)                Output Shape              Param #   \n",
            "=================================================================\n",
            " embedding_1 (Embedding)     (None, 62, 100)           300100    \n",
            "                                                                 \n",
            " global_average_pooling1d_1   (None, 100)              0         \n",
            " (GlobalAveragePooling1D)                                        \n",
            "                                                                 \n",
            " dense_1 (Dense)             (None, 8)                 808       \n",
            "                                                                 \n",
            "=================================================================\n",
            "Total params: 300,908\n",
            "Trainable params: 300,908\n",
            "Non-trainable params: 0\n",
            "_________________________________________________________________\n"
          ]
        }
      ]
    },
    {
      "cell_type": "code",
      "source": [
        "from tensorflow.keras.losses import SparseCategoricalCrossentropy\n",
        "model.compile(loss=SparseCategoricalCrossentropy(),\n",
        "       optimizer=\"adam\",\n",
        "       metrics=[\"accuracy\"])"
      ],
      "metadata": {
        "id": "cXxY_Wj0xBWW"
      },
      "execution_count": null,
      "outputs": []
    },
    {
      "cell_type": "code",
      "source": [
        "import numpy as np\n",
        "y_train = np.array(train_df[\"sentiment\"])\n",
        "y_test = np.array(test_df[\"sentiment\"])"
      ],
      "metadata": {
        "id": "P5Y6Oe9exCHb"
      },
      "execution_count": null,
      "outputs": []
    },
    {
      "cell_type": "code",
      "source": [
        "y_train.shape\n",
        "# y_test"
      ],
      "metadata": {
        "colab": {
          "base_uri": "https://localhost:8080/"
        },
        "id": "CDrow4OWfpuF",
        "outputId": "11df59bd-91e8-4d6c-d6af-1c57b579e74f"
      },
      "execution_count": null,
      "outputs": [
        {
          "output_type": "execute_result",
          "data": {
            "text/plain": [
              "(640,)"
            ]
          },
          "metadata": {},
          "execution_count": 145
        }
      ]
    },
    {
      "cell_type": "code",
      "source": [
        "# batch_size: 你看多少筆再進行一次梯度下降(5[圖片大/訓練資料少]-200[圖片小/訓練資料多])\n",
        "# epochs: 全體資料(60000) 你要看幾輪(我們什麼時候要停的關鍵)\n",
        "# validation_split: 測試什麼時候停下來要用沒看過的資料(val loss穩定的時候就停, 不要過擬合)\n",
        "# (60000 * 0.9) / 200 -> 270\n",
        "# verbose: 0(quiet) 1(full) 2(no progress bar)\n",
        "from tensorflow.keras.callbacks import ModelCheckpoint, EarlyStopping\n",
        "callbacks = [\n",
        "    ModelCheckpoint(\"imdb.h5\", save_best_only=True),\n",
        "    EarlyStopping(patience=5, restore_best_weights=True)\n",
        "]\n",
        "model.fit(x_train_pad,\n",
        "     y_train,\n",
        "     batch_size=200,\n",
        "     epochs=50,\n",
        "     validation_split=0.1,\n",
        "     verbose=2,\n",
        "     callbacks=callbacks)"
      ],
      "metadata": {
        "colab": {
          "base_uri": "https://localhost:8080/"
        },
        "id": "rGTlV5WRxEOl",
        "outputId": "ca6efb79-4e40-4f6e-8ff4-f7e8ab842d46"
      },
      "execution_count": null,
      "outputs": [
        {
          "output_type": "stream",
          "name": "stdout",
          "text": [
            "Epoch 1/50\n",
            "3/3 - 1s - loss: 2.0736 - accuracy: 0.2743 - val_loss: 2.0865 - val_accuracy: 0.0156 - 836ms/epoch - 279ms/step\n",
            "Epoch 2/50\n",
            "3/3 - 0s - loss: 2.0498 - accuracy: 0.6302 - val_loss: 2.0876 - val_accuracy: 0.0156 - 51ms/epoch - 17ms/step\n",
            "Epoch 3/50\n",
            "3/3 - 0s - loss: 2.0261 - accuracy: 0.7066 - val_loss: 2.0894 - val_accuracy: 0.0000e+00 - 72ms/epoch - 24ms/step\n",
            "Epoch 4/50\n",
            "3/3 - 0s - loss: 2.0010 - accuracy: 0.7101 - val_loss: 2.0919 - val_accuracy: 0.0000e+00 - 49ms/epoch - 16ms/step\n",
            "Epoch 5/50\n",
            "3/3 - 0s - loss: 1.9748 - accuracy: 0.7101 - val_loss: 2.0950 - val_accuracy: 0.0000e+00 - 52ms/epoch - 17ms/step\n",
            "Epoch 6/50\n",
            "3/3 - 0s - loss: 1.9477 - accuracy: 0.7101 - val_loss: 2.0987 - val_accuracy: 0.0000e+00 - 55ms/epoch - 18ms/step\n"
          ]
        },
        {
          "output_type": "execute_result",
          "data": {
            "text/plain": [
              "<keras.callbacks.History at 0x7f83a39da410>"
            ]
          },
          "metadata": {},
          "execution_count": 146
        }
      ]
    },
    {
      "cell_type": "code",
      "source": [
        "model.evaluate(x_test_pad, y_test)"
      ],
      "metadata": {
        "colab": {
          "base_uri": "https://localhost:8080/"
        },
        "id": "zWYGb5SexP-D",
        "outputId": "ed41df48-389c-40e0-d79e-ab9f67c80041"
      },
      "execution_count": null,
      "outputs": [
        {
          "output_type": "stream",
          "name": "stdout",
          "text": [
            "20/20 [==============================] - 0s 7ms/step - loss: 2.0649 - accuracy: 0.4453\n"
          ]
        },
        {
          "output_type": "execute_result",
          "data": {
            "text/plain": [
              "[2.064850091934204, 0.4453125]"
            ]
          },
          "metadata": {},
          "execution_count": 147
        }
      ]
    },
    {
      "cell_type": "code",
      "source": [
        "comment = input(\"comment:\")\n",
        "seq = tok.texts_to_sequences([comment])\n",
        "pad = pad_sequences(seq, maxlen=62)\n",
        "model.predict(pad)"
      ],
      "metadata": {
        "colab": {
          "base_uri": "https://localhost:8080/"
        },
        "id": "jOwmAIBv0HJM",
        "outputId": "02dc7626-251e-495a-ca8b-909677a9bc3b"
      },
      "execution_count": null,
      "outputs": [
        {
          "name": "stdout",
          "output_type": "stream",
          "text": [
            "comment:服用 adarone 宜 避免 或 小心 服用 葡萄柚 汁 請 二 服用\n"
          ]
        },
        {
          "output_type": "execute_result",
          "data": {
            "text/plain": [
              "array([[0.12486216, 0.12369704, 0.12641554, 0.12534428, 0.12598531,\n",
              "        0.12293393, 0.12220719, 0.1285546 ]], dtype=float32)"
            ]
          },
          "metadata": {},
          "execution_count": 152
        }
      ]
    },
    {
      "cell_type": "code",
      "source": [
        "###另外做語意分析模型\n",
        "layers = [\n",
        "    # 3001種 * 100 -> 300100\n",
        "    Embedding(3001, 100, mask_zero=True),\n",
        "    GlobalAveragePooling1D()\n",
        "]\n",
        "partial = Sequential(layers)\n",
        "partial.summary()"
      ],
      "metadata": {
        "colab": {
          "base_uri": "https://localhost:8080/"
        },
        "id": "GnA1HJtx_xPh",
        "outputId": "2b5a515b-d5ac-4754-8f7c-bedcdb431ebc"
      },
      "execution_count": null,
      "outputs": [
        {
          "output_type": "stream",
          "name": "stdout",
          "text": [
            "Model: \"sequential_2\"\n",
            "_________________________________________________________________\n",
            " Layer (type)                Output Shape              Param #   \n",
            "=================================================================\n",
            " embedding_2 (Embedding)     (None, None, 100)         300100    \n",
            "                                                                 \n",
            " global_average_pooling1d_2   (None, 100)              0         \n",
            " (GlobalAveragePooling1D)                                        \n",
            "                                                                 \n",
            "=================================================================\n",
            "Total params: 300,100\n",
            "Trainable params: 300,100\n",
            "Non-trainable params: 0\n",
            "_________________________________________________________________\n"
          ]
        }
      ]
    },
    {
      "cell_type": "code",
      "source": [
        "w = model.layers[0].get_weights()\n",
        "partial.layers[0].set_weights(w)"
      ],
      "metadata": {
        "id": "LAxYkxUq_-1D"
      },
      "execution_count": null,
      "outputs": []
    },
    {
      "cell_type": "code",
      "source": [
        "from scipy.spatial.distance import cosine\n",
        "word1 = \"\\u91AB\\u751F\\u6709\\u958B\\u7ACB\\u4E0D\\u5C11\\u5E6B\\u52A9\\u5FAA\\u74B0\\u7684\\u85E5\\u7269\\uFF0C\\u518D\\u8ACB\\u4F60\\u5011\\u6CE8\\u610F\\uFF0C\\u60A3\\u8005\\u6709\\u6C92\\u6709\\u51FA\\u73FE\\u7600\\u8840\\u7684\\u73FE\\u8C61\\u3002\"#@param {type:\"string\"}\n",
        "word2 = \"Benzbromarone\\u9808\\u5B9A\\u671F\\u8FFD\\u8E64\\u809D\\u80FD(\\u60A3\\u8005GOT\\u6578\\u503C73)\\uFF0C\\u82E5\\u75DB\\u98A8\\u63A7\\u5236\\u826F\\u597D\\u5EFA\\u8B70\\u8207Febuxostat\\u64C7\\u4E00\\u4F7F\\u7528(\\u672A\\u898B\\u5C3F\\u9178\\u6AA2\\u9A57\\u503C)\\u65E9\\u4E0A\\u9700\\u7559\\u610F\\u4F4E\\u8840\\u58D3\\u60C5\\u6CC1\\u907F\\u514D\\u8DCC\\u5012\\u7559\\u610F\\u60A3\\u8005\\u5FC3\\u8DF3\\u901F\\u7387(Quetiapine\\u3001Levofloxacin\\u3001Famotidine\\u5408\\u4F75\\u4F7F\\u7528)\"#@param {type:\"string\"}\n",
        "words = np.array([word1, word2])\n",
        "seq = tok.texts_to_sequences(words)\n",
        "pad = pad_sequences(seq)\n",
        "result = partial.predict(pad)\n",
        "# cos距離: 越接近1越相似\n",
        "1 - cosine(result[0], result[1])"
      ],
      "metadata": {
        "colab": {
          "base_uri": "https://localhost:8080/"
        },
        "id": "KwWAzeKq__bo",
        "outputId": "c50ecb8f-55cd-44a1-c427-a3aa637184ca"
      },
      "execution_count": null,
      "outputs": [
        {
          "output_type": "execute_result",
          "data": {
            "text/plain": [
              "nan"
            ]
          },
          "metadata": {},
          "execution_count": 157
        }
      ]
    }
  ]
}